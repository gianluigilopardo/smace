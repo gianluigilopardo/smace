{
 "cells": [
  {
   "cell_type": "markdown",
   "id": "5c8e2e78",
   "metadata": {},
   "source": [
    "# SMACE application example\n",
    "## Settings"
   ]
  },
  {
   "cell_type": "code",
   "execution_count": 1,
   "id": "d7c94cba",
   "metadata": {},
   "outputs": [],
   "source": [
    "import json\n",
    "import numpy as np\n",
    "import pandas as pd\n",
    "import warnings\n",
    "from sklearn import linear_model\n",
    "import xgboost\n",
    "from sklearn import tree\n",
    "import lime\n",
    "import lime.lime_tabular\n",
    "\n",
    "warnings.filterwarnings(\"ignore\")\n",
    "np.random.seed(seed=1)"
   ]
  },
  {
   "cell_type": "code",
   "execution_count": 2,
   "id": "0ece5ee2",
   "metadata": {},
   "outputs": [],
   "source": [
    "from smace.rules import Rule\n",
    "from smace.decisions import DM\n",
    "from smace.explainer import Smace\n",
    "from smace.models import Model\n",
    "from smace import utils"
   ]
  },
  {
   "cell_type": "markdown",
   "id": "d3b56a8c",
   "metadata": {},
   "source": [
    "**Data** is a uniform random sample $x_1,\\ldots,x_6 \\in [0,1]$."
   ]
  },
  {
   "cell_type": "code",
   "execution_count": 3,
   "id": "9e0513ec",
   "metadata": {},
   "outputs": [
    {
     "data": {
      "text/html": [
       "<div>\n",
       "<style scoped>\n",
       "    .dataframe tbody tr th:only-of-type {\n",
       "        vertical-align: middle;\n",
       "    }\n",
       "\n",
       "    .dataframe tbody tr th {\n",
       "        vertical-align: top;\n",
       "    }\n",
       "\n",
       "    .dataframe thead th {\n",
       "        text-align: right;\n",
       "    }\n",
       "</style>\n",
       "<table border=\"1\" class=\"dataframe\">\n",
       "  <thead>\n",
       "    <tr style=\"text-align: right;\">\n",
       "      <th></th>\n",
       "      <th>x1</th>\n",
       "      <th>x2</th>\n",
       "      <th>x3</th>\n",
       "      <th>x4</th>\n",
       "      <th>x5</th>\n",
       "      <th>x6</th>\n",
       "    </tr>\n",
       "  </thead>\n",
       "  <tbody>\n",
       "    <tr>\n",
       "      <th>0</th>\n",
       "      <td>0.417022</td>\n",
       "      <td>0.720324</td>\n",
       "      <td>0.000114</td>\n",
       "      <td>0.302333</td>\n",
       "      <td>0.146756</td>\n",
       "      <td>0.092339</td>\n",
       "    </tr>\n",
       "    <tr>\n",
       "      <th>1</th>\n",
       "      <td>0.186260</td>\n",
       "      <td>0.345561</td>\n",
       "      <td>0.396767</td>\n",
       "      <td>0.538817</td>\n",
       "      <td>0.419195</td>\n",
       "      <td>0.685220</td>\n",
       "    </tr>\n",
       "    <tr>\n",
       "      <th>2</th>\n",
       "      <td>0.204452</td>\n",
       "      <td>0.878117</td>\n",
       "      <td>0.027388</td>\n",
       "      <td>0.670468</td>\n",
       "      <td>0.417305</td>\n",
       "      <td>0.558690</td>\n",
       "    </tr>\n",
       "    <tr>\n",
       "      <th>3</th>\n",
       "      <td>0.140387</td>\n",
       "      <td>0.198101</td>\n",
       "      <td>0.800745</td>\n",
       "      <td>0.968262</td>\n",
       "      <td>0.313424</td>\n",
       "      <td>0.692323</td>\n",
       "    </tr>\n",
       "    <tr>\n",
       "      <th>4</th>\n",
       "      <td>0.876389</td>\n",
       "      <td>0.894607</td>\n",
       "      <td>0.085044</td>\n",
       "      <td>0.039055</td>\n",
       "      <td>0.169830</td>\n",
       "      <td>0.878143</td>\n",
       "    </tr>\n",
       "  </tbody>\n",
       "</table>\n",
       "</div>"
      ],
      "text/plain": [
       "         x1        x2        x3        x4        x5        x6\n",
       "0  0.417022  0.720324  0.000114  0.302333  0.146756  0.092339\n",
       "1  0.186260  0.345561  0.396767  0.538817  0.419195  0.685220\n",
       "2  0.204452  0.878117  0.027388  0.670468  0.417305  0.558690\n",
       "3  0.140387  0.198101  0.800745  0.968262  0.313424  0.692323\n",
       "4  0.876389  0.894607  0.085044  0.039055  0.169830  0.878143"
      ]
     },
     "execution_count": 3,
     "metadata": {},
     "output_type": "execute_result"
    }
   ],
   "source": [
    "# input data\n",
    "data = np.random.rand(1000, 6)\n",
    "columns = ['x1', 'x2', 'x3','x4','x5','x6']\n",
    "df = pd.DataFrame(data, columns=columns)\n",
    "df.head()"
   ]
  },
  {
   "cell_type": "markdown",
   "id": "cc479ea0",
   "metadata": {},
   "source": [
    "We read the json file containing the **rules**."
   ]
  },
  {
   "cell_type": "code",
   "execution_count": 4,
   "id": "c97fa676",
   "metadata": {},
   "outputs": [],
   "source": [
    "# decision rules\n",
    "with open('rules_example.json', 'r') as fp:\n",
    "    rules_json = json.load(fp)"
   ]
  },
  {
   "cell_type": "markdown",
   "id": "37fdd70e",
   "metadata": {},
   "source": [
    "There are three machine learning models: \n",
    "* *lm*: LinearRegression trained to fit the function $f_1 = x_2 - 2x_3 + 8x_5 + x_6 $\n",
    "* *xgb*: XGBRegressor trained to fit $ f_2 = -100x_1+80x_2x_4+50x_3 $\n",
    "* *dtree*: DecisionTreeRegressor trained to fit $500\\mathbb{1}_{x_4>0.5}$"
   ]
  },
  {
   "cell_type": "code",
   "execution_count": 5,
   "id": "619e32a7",
   "metadata": {},
   "outputs": [],
   "source": [
    "# models\n",
    "def f_1(x):\n",
    "    return x[:, 1] - 2*x[:, 2] + 8*x[:, 4] + 9*x[:, 5]\n",
    "\n",
    "def f_2(x):\n",
    "    return -100*x[:, 0] + 80*x[:, 1]*x[:, 3] +  50*x[:, 2]\n",
    "\n",
    "def f_3(x):\n",
    "    if x.ndim == 1:\n",
    "        x = np.expand_dims(x,0)\n",
    "    return [500 if x[i,3]>0.5 else 0 for i in range(x.shape[0])]\n",
    "\n",
    "X = df.values\n",
    "y1 = f_1(X)\n",
    "y2 = f_2(X)\n",
    "y3 = f_3(X)\n",
    "\n",
    "lm = linear_model.LinearRegression()\n",
    "lm.fit(X,y1)\n",
    "\n",
    "xgb = xgboost.XGBRegressor()\n",
    "xgb.fit(X,y2)\n",
    "\n",
    "dtree = tree.DecisionTreeRegressor()\n",
    "dtree.fit(X,y3)\n",
    "\n",
    "model_1 = Model(lm, 'lm', df)\n",
    "model_2 = Model(xgb, 'xgb', df)\n",
    "model_3 = Model(dtree, 'tree', df)\n",
    "\n",
    "models_list = [model_1, model_2, model_3]"
   ]
  },
  {
   "cell_type": "code",
   "execution_count": 6,
   "id": "40102dfb",
   "metadata": {},
   "outputs": [],
   "source": [
    "# decision system\n",
    "dm = DM(rules_json, models_list, df) "
   ]
  },
  {
   "cell_type": "markdown",
   "id": "51cb8197",
   "metadata": {},
   "source": [
    "We take a random example $\\xi\\in[0,1]^6$."
   ]
  },
  {
   "cell_type": "code",
   "execution_count": 7,
   "id": "78f37698",
   "metadata": {},
   "outputs": [
    {
     "name": "stdout",
     "output_type": "stream",
     "text": [
      "[0.799277   0.27725153 0.12237763 0.28890343 0.20744177 0.30015126]\n"
     ]
    }
   ],
   "source": [
    "example = np.random.rand(6)\n",
    "print(example)"
   ]
  },
  {
   "cell_type": "code",
   "execution_count": 8,
   "id": "dbd424f1",
   "metadata": {},
   "outputs": [
    {
     "name": "stdout",
     "output_type": "stream",
     "text": [
      "Rule(s) ['rul2'] triggered.\n",
      "Decision(s) ['dec2'] made.\n"
     ]
    }
   ],
   "source": [
    "dec = dm.make_decision(example, verbose=True)"
   ]
  },
  {
   "cell_type": "markdown",
   "id": "18150fd2",
   "metadata": {},
   "source": [
    "## Explainer\n",
    "### Default: SHAP values for models"
   ]
  },
  {
   "cell_type": "markdown",
   "id": "fa132cb8",
   "metadata": {},
   "source": [
    "Decision 'dec4' has been made for $\\xi$. \n",
    "We use SMACE to explain it."
   ]
  },
  {
   "cell_type": "code",
   "execution_count": 9,
   "id": "bb919bc5",
   "metadata": {},
   "outputs": [],
   "source": [
    "explainer = Smace(dm)"
   ]
  },
  {
   "cell_type": "code",
   "execution_count": 10,
   "id": "c7d7c58b",
   "metadata": {},
   "outputs": [
    {
     "data": {
      "text/html": [
       "<div>\n",
       "<style scoped>\n",
       "    .dataframe tbody tr th:only-of-type {\n",
       "        vertical-align: middle;\n",
       "    }\n",
       "\n",
       "    .dataframe tbody tr th {\n",
       "        vertical-align: top;\n",
       "    }\n",
       "\n",
       "    .dataframe thead th {\n",
       "        text-align: right;\n",
       "    }\n",
       "</style>\n",
       "<table border=\"1\" class=\"dataframe\">\n",
       "  <thead>\n",
       "    <tr style=\"text-align: right;\">\n",
       "      <th></th>\n",
       "      <th>Example</th>\n",
       "      <th>Contribution</th>\n",
       "    </tr>\n",
       "  </thead>\n",
       "  <tbody>\n",
       "    <tr>\n",
       "      <th>x4</th>\n",
       "      <td>0.288903</td>\n",
       "      <td>0.982952</td>\n",
       "    </tr>\n",
       "    <tr>\n",
       "      <th>x5</th>\n",
       "      <td>0.207442</td>\n",
       "      <td>-0.349621</td>\n",
       "    </tr>\n",
       "    <tr>\n",
       "      <th>x6</th>\n",
       "      <td>0.300151</td>\n",
       "      <td>-0.245793</td>\n",
       "    </tr>\n",
       "    <tr>\n",
       "      <th>x1</th>\n",
       "      <td>0.799277</td>\n",
       "      <td>0.187807</td>\n",
       "    </tr>\n",
       "    <tr>\n",
       "      <th>x2</th>\n",
       "      <td>0.277252</td>\n",
       "      <td>-0.100748</td>\n",
       "    </tr>\n",
       "    <tr>\n",
       "      <th>x3</th>\n",
       "      <td>0.122378</td>\n",
       "      <td>-0.087423</td>\n",
       "    </tr>\n",
       "  </tbody>\n",
       "</table>\n",
       "</div>"
      ],
      "text/plain": [
       "     Example  Contribution\n",
       "x4  0.288903      0.982952\n",
       "x5  0.207442     -0.349621\n",
       "x6  0.300151     -0.245793\n",
       "x1  0.799277      0.187807\n",
       "x2  0.277252     -0.100748\n",
       "x3  0.122378     -0.087423"
      ]
     },
     "execution_count": 10,
     "metadata": {},
     "output_type": "execute_result"
    }
   ],
   "source": [
    "explanation = explainer.explain(example, 'rul4')\n",
    "explanation.table(num_features=6)"
   ]
  },
  {
   "cell_type": "code",
   "execution_count": 11,
   "id": "938f7cf8",
   "metadata": {},
   "outputs": [
    {
     "data": {
      "text/plain": [
       "<AxesSubplot:>"
      ]
     },
     "execution_count": 11,
     "metadata": {},
     "output_type": "execute_result"
    },
    {
     "data": {
      "image/png": "[encoded data removed]",
      "text/plain": [
       "<Figure size 432x288 with 1 Axes>"
      ]
     },
     "metadata": {
      "needs_background": "light"
     },
     "output_type": "display_data"
    }
   ],
   "source": [
    "explanation.bar()"
   ]
  },
  {
   "cell_type": "markdown",
   "id": "888abc5b",
   "metadata": {},
   "source": [
    "We can also get partial explanation."
   ]
  },
  {
   "cell_type": "markdown",
   "id": "5b549c00",
   "metadata": {},
   "source": [
    "Contribution of each variable directly involved within the decision policy."
   ]
  },
  {
   "cell_type": "code",
   "execution_count": 12,
   "id": "3ae84632",
   "metadata": {
    "scrolled": true
   },
   "outputs": [
    {
     "data": {
      "text/html": [
       "<div>\n",
       "<style scoped>\n",
       "    .dataframe tbody tr th:only-of-type {\n",
       "        vertical-align: middle;\n",
       "    }\n",
       "\n",
       "    .dataframe tbody tr th {\n",
       "        vertical-align: top;\n",
       "    }\n",
       "\n",
       "    .dataframe thead th {\n",
       "        text-align: right;\n",
       "    }\n",
       "</style>\n",
       "<table border=\"1\" class=\"dataframe\">\n",
       "  <thead>\n",
       "    <tr style=\"text-align: right;\">\n",
       "      <th></th>\n",
       "      <th>Contribution</th>\n",
       "    </tr>\n",
       "  </thead>\n",
       "  <tbody>\n",
       "    <tr>\n",
       "      <th>lm</th>\n",
       "      <td>0.740</td>\n",
       "    </tr>\n",
       "    <tr>\n",
       "      <th>xgb</th>\n",
       "      <td>0.588</td>\n",
       "    </tr>\n",
       "    <tr>\n",
       "      <th>x4</th>\n",
       "      <td>0.537</td>\n",
       "    </tr>\n",
       "    <tr>\n",
       "      <th>tree</th>\n",
       "      <td>-0.500</td>\n",
       "    </tr>\n",
       "    <tr>\n",
       "      <th>x1</th>\n",
       "      <td>0.449</td>\n",
       "    </tr>\n",
       "    <tr>\n",
       "      <th>x2</th>\n",
       "      <td>0.000</td>\n",
       "    </tr>\n",
       "    <tr>\n",
       "      <th>x3</th>\n",
       "      <td>0.000</td>\n",
       "    </tr>\n",
       "    <tr>\n",
       "      <th>x5</th>\n",
       "      <td>0.000</td>\n",
       "    </tr>\n",
       "    <tr>\n",
       "      <th>x6</th>\n",
       "      <td>0.000</td>\n",
       "    </tr>\n",
       "  </tbody>\n",
       "</table>\n",
       "</div>"
      ],
      "text/plain": [
       "      Contribution\n",
       "lm           0.740\n",
       "xgb          0.588\n",
       "x4           0.537\n",
       "tree        -0.500\n",
       "x1           0.449\n",
       "x2           0.000\n",
       "x3           0.000\n",
       "x5           0.000\n",
       "x6           0.000"
      ]
     },
     "execution_count": 12,
     "metadata": {},
     "output_type": "execute_result"
    }
   ],
   "source": [
    "explanation.rule_table()"
   ]
  },
  {
   "cell_type": "markdown",
   "id": "3d814b53",
   "metadata": {},
   "source": [
    "Contribution for model *lm*."
   ]
  },
  {
   "cell_type": "code",
   "execution_count": 13,
   "id": "b67dd9e6",
   "metadata": {},
   "outputs": [
    {
     "data": {
      "text/html": [
       "<div>\n",
       "<style scoped>\n",
       "    .dataframe tbody tr th:only-of-type {\n",
       "        vertical-align: middle;\n",
       "    }\n",
       "\n",
       "    .dataframe tbody tr th {\n",
       "        vertical-align: top;\n",
       "    }\n",
       "\n",
       "    .dataframe thead th {\n",
       "        text-align: right;\n",
       "    }\n",
       "</style>\n",
       "<table border=\"1\" class=\"dataframe\">\n",
       "  <thead>\n",
       "    <tr style=\"text-align: right;\">\n",
       "      <th></th>\n",
       "      <th>Contribution</th>\n",
       "    </tr>\n",
       "  </thead>\n",
       "  <tbody>\n",
       "    <tr>\n",
       "      <th>x5</th>\n",
       "      <td>-0.469564</td>\n",
       "    </tr>\n",
       "    <tr>\n",
       "      <th>x6</th>\n",
       "      <td>-0.334768</td>\n",
       "    </tr>\n",
       "    <tr>\n",
       "      <th>x3</th>\n",
       "      <td>0.152231</td>\n",
       "    </tr>\n",
       "    <tr>\n",
       "      <th>x2</th>\n",
       "      <td>-0.043436</td>\n",
       "    </tr>\n",
       "    <tr>\n",
       "      <th>x1</th>\n",
       "      <td>0.000000</td>\n",
       "    </tr>\n",
       "    <tr>\n",
       "      <th>x4</th>\n",
       "      <td>0.000000</td>\n",
       "    </tr>\n",
       "  </tbody>\n",
       "</table>\n",
       "</div>"
      ],
      "text/plain": [
       "    Contribution\n",
       "x5     -0.469564\n",
       "x6     -0.334768\n",
       "x3      0.152231\n",
       "x2     -0.043436\n",
       "x1      0.000000\n",
       "x4      0.000000"
      ]
     },
     "execution_count": 13,
     "metadata": {},
     "output_type": "execute_result"
    }
   ],
   "source": [
    "explanation.model_table('lm')"
   ]
  },
  {
   "cell_type": "code",
   "execution_count": 14,
   "id": "71a0b357",
   "metadata": {},
   "outputs": [
    {
     "data": {
      "text/plain": [
       "<AxesSubplot:>"
      ]
     },
     "execution_count": 14,
     "metadata": {},
     "output_type": "execute_result"
    },
    {
     "data": {
      "image/png": "[encoded data removed]",
      "text/plain": [
       "<Figure size 432x288 with 1 Axes>"
      ]
     },
     "metadata": {
      "needs_background": "light"
     },
     "output_type": "display_data"
    }
   ],
   "source": [
    "explanation.model_bar('lm')"
   ]
  },
  {
   "cell_type": "code",
   "execution_count": 15,
   "id": "6f45fe4f",
   "metadata": {},
   "outputs": [
    {
     "data": {
      "text/html": [
       "<div>\n",
       "<style scoped>\n",
       "    .dataframe tbody tr th:only-of-type {\n",
       "        vertical-align: middle;\n",
       "    }\n",
       "\n",
       "    .dataframe tbody tr th {\n",
       "        vertical-align: top;\n",
       "    }\n",
       "\n",
       "    .dataframe thead th {\n",
       "        text-align: right;\n",
       "    }\n",
       "</style>\n",
       "<table border=\"1\" class=\"dataframe\">\n",
       "  <thead>\n",
       "    <tr style=\"text-align: right;\">\n",
       "      <th></th>\n",
       "      <th>Contribution</th>\n",
       "    </tr>\n",
       "  </thead>\n",
       "  <tbody>\n",
       "    <tr>\n",
       "      <th>x1</th>\n",
       "      <td>-0.444206</td>\n",
       "    </tr>\n",
       "    <tr>\n",
       "      <th>x3</th>\n",
       "      <td>-0.340262</td>\n",
       "    </tr>\n",
       "    <tr>\n",
       "      <th>x2</th>\n",
       "      <td>-0.116675</td>\n",
       "    </tr>\n",
       "    <tr>\n",
       "      <th>x4</th>\n",
       "      <td>-0.091918</td>\n",
       "    </tr>\n",
       "    <tr>\n",
       "      <th>x5</th>\n",
       "      <td>-0.003646</td>\n",
       "    </tr>\n",
       "    <tr>\n",
       "      <th>x6</th>\n",
       "      <td>0.003292</td>\n",
       "    </tr>\n",
       "  </tbody>\n",
       "</table>\n",
       "</div>"
      ],
      "text/plain": [
       "    Contribution\n",
       "x1     -0.444206\n",
       "x3     -0.340262\n",
       "x2     -0.116675\n",
       "x4     -0.091918\n",
       "x5     -0.003646\n",
       "x6      0.003292"
      ]
     },
     "execution_count": 15,
     "metadata": {},
     "output_type": "execute_result"
    }
   ],
   "source": [
    "explanation.model_table('xgb')"
   ]
  },
  {
   "cell_type": "code",
   "execution_count": 16,
   "id": "a6044cbc",
   "metadata": {},
   "outputs": [
    {
     "data": {
      "text/html": [
       "<div>\n",
       "<style scoped>\n",
       "    .dataframe tbody tr th:only-of-type {\n",
       "        vertical-align: middle;\n",
       "    }\n",
       "\n",
       "    .dataframe tbody tr th {\n",
       "        vertical-align: top;\n",
       "    }\n",
       "\n",
       "    .dataframe thead th {\n",
       "        text-align: right;\n",
       "    }\n",
       "</style>\n",
       "<table border=\"1\" class=\"dataframe\">\n",
       "  <thead>\n",
       "    <tr style=\"text-align: right;\">\n",
       "      <th></th>\n",
       "      <th>Contribution</th>\n",
       "    </tr>\n",
       "  </thead>\n",
       "  <tbody>\n",
       "    <tr>\n",
       "      <th>x4</th>\n",
       "      <td>-1.0</td>\n",
       "    </tr>\n",
       "    <tr>\n",
       "      <th>x1</th>\n",
       "      <td>0.0</td>\n",
       "    </tr>\n",
       "    <tr>\n",
       "      <th>x2</th>\n",
       "      <td>0.0</td>\n",
       "    </tr>\n",
       "    <tr>\n",
       "      <th>x3</th>\n",
       "      <td>0.0</td>\n",
       "    </tr>\n",
       "    <tr>\n",
       "      <th>x5</th>\n",
       "      <td>0.0</td>\n",
       "    </tr>\n",
       "    <tr>\n",
       "      <th>x6</th>\n",
       "      <td>0.0</td>\n",
       "    </tr>\n",
       "  </tbody>\n",
       "</table>\n",
       "</div>"
      ],
      "text/plain": [
       "    Contribution\n",
       "x4          -1.0\n",
       "x1           0.0\n",
       "x2           0.0\n",
       "x3           0.0\n",
       "x5           0.0\n",
       "x6           0.0"
      ]
     },
     "execution_count": 16,
     "metadata": {},
     "output_type": "execute_result"
    }
   ],
   "source": [
    "explanation.model_table('tree')"
   ]
  },
  {
   "cell_type": "markdown",
   "id": "cd19731f",
   "metadata": {},
   "source": [
    "We may also wonder why 'dec1' was not made, i.e., why 'rul1' was not triggered."
   ]
  },
  {
   "cell_type": "code",
   "execution_count": 17,
   "id": "0cfd9480",
   "metadata": {},
   "outputs": [
    {
     "data": {
      "text/html": [
       "<div>\n",
       "<style scoped>\n",
       "    .dataframe tbody tr th:only-of-type {\n",
       "        vertical-align: middle;\n",
       "    }\n",
       "\n",
       "    .dataframe tbody tr th {\n",
       "        vertical-align: top;\n",
       "    }\n",
       "\n",
       "    .dataframe thead th {\n",
       "        text-align: right;\n",
       "    }\n",
       "</style>\n",
       "<table border=\"1\" class=\"dataframe\">\n",
       "  <thead>\n",
       "    <tr style=\"text-align: right;\">\n",
       "      <th></th>\n",
       "      <th>Example</th>\n",
       "      <th>Contribution</th>\n",
       "    </tr>\n",
       "  </thead>\n",
       "  <tbody>\n",
       "    <tr>\n",
       "      <th>x3</th>\n",
       "      <td>0.122378</td>\n",
       "      <td>-0.877473</td>\n",
       "    </tr>\n",
       "    <tr>\n",
       "      <th>x4</th>\n",
       "      <td>0.288903</td>\n",
       "      <td>0.765623</td>\n",
       "    </tr>\n",
       "    <tr>\n",
       "      <th>x2</th>\n",
       "      <td>0.277252</td>\n",
       "      <td>-0.754386</td>\n",
       "    </tr>\n",
       "    <tr>\n",
       "      <th>x5</th>\n",
       "      <td>0.207442</td>\n",
       "      <td>-0.377015</td>\n",
       "    </tr>\n",
       "    <tr>\n",
       "      <th>x6</th>\n",
       "      <td>0.300151</td>\n",
       "      <td>-0.266583</td>\n",
       "    </tr>\n",
       "    <tr>\n",
       "      <th>x1</th>\n",
       "      <td>0.799277</td>\n",
       "      <td>-0.166133</td>\n",
       "    </tr>\n",
       "  </tbody>\n",
       "</table>\n",
       "</div>"
      ],
      "text/plain": [
       "     Example  Contribution\n",
       "x3  0.122378     -0.877473\n",
       "x4  0.288903      0.765623\n",
       "x2  0.277252     -0.754386\n",
       "x5  0.207442     -0.377015\n",
       "x6  0.300151     -0.266583\n",
       "x1  0.799277     -0.166133"
      ]
     },
     "execution_count": 17,
     "metadata": {},
     "output_type": "execute_result"
    }
   ],
   "source": [
    "explanation = explainer.explain(example, 'rul1')\n",
    "explanation.table()"
   ]
  },
  {
   "cell_type": "code",
   "execution_count": 18,
   "id": "6365d425",
   "metadata": {},
   "outputs": [
    {
     "data": {
      "text/plain": [
       "<AxesSubplot:>"
      ]
     },
     "execution_count": 18,
     "metadata": {},
     "output_type": "execute_result"
    },
    {
     "data": {
      "image/png": "[encoded data removed]",
      "text/plain": [
       "<Figure size 432x288 with 1 Axes>"
      ]
     },
     "metadata": {
      "needs_background": "light"
     },
     "output_type": "display_data"
    }
   ],
   "source": [
    "explanation.bar()"
   ]
  },
  {
   "cell_type": "markdown",
   "id": "8590e243",
   "metadata": {},
   "source": [
    "### LIME for the models"
   ]
  },
  {
   "cell_type": "code",
   "execution_count": 19,
   "id": "6af734b0",
   "metadata": {},
   "outputs": [],
   "source": [
    "def lime_mapper(x):  # mapper needed for lime\n",
    "    y = []\n",
    "    x = x.as_map()[1]\n",
    "    x.sort()\n",
    "    y = [x[i][1] for i in range(len(x))]\n",
    "    return np.array(y)"
   ]
  },
  {
   "cell_type": "code",
   "execution_count": 20,
   "id": "e917bdd2",
   "metadata": {},
   "outputs": [],
   "source": [
    "lime_explainer = lime.lime_tabular.LimeTabularExplainer(df.values, feature_names=df.columns, discretize_continuous=False, \n",
    "                                                 mode='regression')\n",
    "\n",
    "lm_exp = lime_explainer.explain_instance(example, lm.predict, num_features=6, top_labels=1)\n",
    "lm_exp = lm_exp.as_list()\n",
    "\n",
    "xgb_exp = lime_explainer.explain_instance(example, xgb.predict, num_features=6, top_labels=1)\n",
    "xgb_exp = xgb_exp.as_list()\n",
    "\n",
    "tree_exp = lime_explainer.explain_instance(example, dtree.predict, num_features=6, top_labels=1)\n",
    "tree_exp = tree_exp.as_list()"
   ]
  },
  {
   "cell_type": "code",
   "execution_count": 21,
   "id": "d0dee6d4",
   "metadata": {},
   "outputs": [],
   "source": [
    "phi_lm = dict((x, y) for x, y in lm_exp)\n",
    "phi_xgb = dict((x, y) for x, y in xgb_exp)\n",
    "phi_tree = dict((x, y) for x, y in tree_exp)"
   ]
  },
  {
   "cell_type": "code",
   "execution_count": 22,
   "id": "3e10752f",
   "metadata": {},
   "outputs": [
    {
     "data": {
      "text/plain": [
       "{'x4': 224.4656638419963,\n",
       " 'x1': -4.0959005188078645,\n",
       " 'x6': 4.008176058000461,\n",
       " 'x2': 2.8567800949787645,\n",
       " 'x5': 0.9898777838010503,\n",
       " 'x3': 0.7392767142474028}"
      ]
     },
     "execution_count": 22,
     "metadata": {},
     "output_type": "execute_result"
    }
   ],
   "source": [
    "phi_tree"
   ]
  },
  {
   "cell_type": "code",
   "execution_count": 23,
   "id": "5de32cd9",
   "metadata": {},
   "outputs": [],
   "source": [
    "phis = {'lm': phi_lm, \n",
    "        'xgb': phi_xgb,\n",
    "        'tree': phi_tree}"
   ]
  },
  {
   "cell_type": "code",
   "execution_count": 24,
   "id": "b446ca34",
   "metadata": {},
   "outputs": [
    {
     "data": {
      "text/html": [
       "<div>\n",
       "<style scoped>\n",
       "    .dataframe tbody tr th:only-of-type {\n",
       "        vertical-align: middle;\n",
       "    }\n",
       "\n",
       "    .dataframe tbody tr th {\n",
       "        vertical-align: top;\n",
       "    }\n",
       "\n",
       "    .dataframe thead th {\n",
       "        text-align: right;\n",
       "    }\n",
       "</style>\n",
       "<table border=\"1\" class=\"dataframe\">\n",
       "  <thead>\n",
       "    <tr style=\"text-align: right;\">\n",
       "      <th></th>\n",
       "      <th>Example</th>\n",
       "      <th>Contribution</th>\n",
       "    </tr>\n",
       "  </thead>\n",
       "  <tbody>\n",
       "    <tr>\n",
       "      <th>x3</th>\n",
       "      <td>0.122378</td>\n",
       "      <td>-0.868881</td>\n",
       "    </tr>\n",
       "    <tr>\n",
       "      <th>x4</th>\n",
       "      <td>0.288903</td>\n",
       "      <td>-0.697561</td>\n",
       "    </tr>\n",
       "    <tr>\n",
       "      <th>x2</th>\n",
       "      <td>0.277252</td>\n",
       "      <td>-0.589926</td>\n",
       "    </tr>\n",
       "    <tr>\n",
       "      <th>x6</th>\n",
       "      <td>0.300151</td>\n",
       "      <td>0.348158</td>\n",
       "    </tr>\n",
       "    <tr>\n",
       "      <th>x5</th>\n",
       "      <td>0.207442</td>\n",
       "      <td>0.315199</td>\n",
       "    </tr>\n",
       "    <tr>\n",
       "      <th>x1</th>\n",
       "      <td>0.799277</td>\n",
       "      <td>-0.157844</td>\n",
       "    </tr>\n",
       "  </tbody>\n",
       "</table>\n",
       "</div>"
      ],
      "text/plain": [
       "     Example  Contribution\n",
       "x3  0.122378     -0.868881\n",
       "x4  0.288903     -0.697561\n",
       "x2  0.277252     -0.589926\n",
       "x6  0.300151      0.348158\n",
       "x5  0.207442      0.315199\n",
       "x1  0.799277     -0.157844"
      ]
     },
     "execution_count": 24,
     "metadata": {},
     "output_type": "execute_result"
    }
   ],
   "source": [
    "explanation = explainer.explain(example, 'rul1', phis=phis)\n",
    "explanation.table(num_features=6)"
   ]
  },
  {
   "cell_type": "code",
   "execution_count": 25,
   "id": "52c2d72f",
   "metadata": {},
   "outputs": [
    {
     "data": {
      "text/html": [
       "<div>\n",
       "<style scoped>\n",
       "    .dataframe tbody tr th:only-of-type {\n",
       "        vertical-align: middle;\n",
       "    }\n",
       "\n",
       "    .dataframe tbody tr th {\n",
       "        vertical-align: top;\n",
       "    }\n",
       "\n",
       "    .dataframe thead th {\n",
       "        text-align: right;\n",
       "    }\n",
       "</style>\n",
       "<table border=\"1\" class=\"dataframe\">\n",
       "  <thead>\n",
       "    <tr style=\"text-align: right;\">\n",
       "      <th></th>\n",
       "      <th>Contribution</th>\n",
       "    </tr>\n",
       "  </thead>\n",
       "  <tbody>\n",
       "    <tr>\n",
       "      <th>x6</th>\n",
       "      <td>0.451904</td>\n",
       "    </tr>\n",
       "    <tr>\n",
       "      <th>x5</th>\n",
       "      <td>0.399552</td>\n",
       "    </tr>\n",
       "    <tr>\n",
       "      <th>x3</th>\n",
       "      <td>-0.099342</td>\n",
       "    </tr>\n",
       "    <tr>\n",
       "      <th>x2</th>\n",
       "      <td>0.049193</td>\n",
       "    </tr>\n",
       "    <tr>\n",
       "      <th>x1</th>\n",
       "      <td>0.000008</td>\n",
       "    </tr>\n",
       "    <tr>\n",
       "      <th>x4</th>\n",
       "      <td>0.000001</td>\n",
       "    </tr>\n",
       "  </tbody>\n",
       "</table>\n",
       "</div>"
      ],
      "text/plain": [
       "    Contribution\n",
       "x6      0.451904\n",
       "x5      0.399552\n",
       "x3     -0.099342\n",
       "x2      0.049193\n",
       "x1      0.000008\n",
       "x4      0.000001"
      ]
     },
     "execution_count": 25,
     "metadata": {},
     "output_type": "execute_result"
    }
   ],
   "source": [
    "explanation.model_table('lm')"
   ]
  },
  {
   "cell_type": "code",
   "execution_count": 26,
   "id": "7e29e867",
   "metadata": {},
   "outputs": [
    {
     "data": {
      "text/html": [
       "<div>\n",
       "<style scoped>\n",
       "    .dataframe tbody tr th:only-of-type {\n",
       "        vertical-align: middle;\n",
       "    }\n",
       "\n",
       "    .dataframe tbody tr th {\n",
       "        vertical-align: top;\n",
       "    }\n",
       "\n",
       "    .dataframe thead th {\n",
       "        text-align: right;\n",
       "    }\n",
       "</style>\n",
       "<table border=\"1\" class=\"dataframe\">\n",
       "  <thead>\n",
       "    <tr style=\"text-align: right;\">\n",
       "      <th></th>\n",
       "      <th>Contribution</th>\n",
       "    </tr>\n",
       "  </thead>\n",
       "  <tbody>\n",
       "    <tr>\n",
       "      <th>x1</th>\n",
       "      <td>-0.459001</td>\n",
       "    </tr>\n",
       "    <tr>\n",
       "      <th>x3</th>\n",
       "      <td>0.227504</td>\n",
       "    </tr>\n",
       "    <tr>\n",
       "      <th>x4</th>\n",
       "      <td>0.159440</td>\n",
       "    </tr>\n",
       "    <tr>\n",
       "      <th>x2</th>\n",
       "      <td>0.150686</td>\n",
       "    </tr>\n",
       "    <tr>\n",
       "      <th>x5</th>\n",
       "      <td>-0.002952</td>\n",
       "    </tr>\n",
       "    <tr>\n",
       "      <th>x6</th>\n",
       "      <td>0.000417</td>\n",
       "    </tr>\n",
       "  </tbody>\n",
       "</table>\n",
       "</div>"
      ],
      "text/plain": [
       "    Contribution\n",
       "x1     -0.459001\n",
       "x3      0.227504\n",
       "x4      0.159440\n",
       "x2      0.150686\n",
       "x5     -0.002952\n",
       "x6      0.000417"
      ]
     },
     "execution_count": 26,
     "metadata": {},
     "output_type": "execute_result"
    }
   ],
   "source": [
    "explanation.model_table('xgb')"
   ]
  },
  {
   "cell_type": "code",
   "execution_count": 27,
   "id": "c3be5e85",
   "metadata": {},
   "outputs": [
    {
     "data": {
      "text/html": [
       "<div>\n",
       "<style scoped>\n",
       "    .dataframe tbody tr th:only-of-type {\n",
       "        vertical-align: middle;\n",
       "    }\n",
       "\n",
       "    .dataframe tbody tr th {\n",
       "        vertical-align: top;\n",
       "    }\n",
       "\n",
       "    .dataframe thead th {\n",
       "        text-align: right;\n",
       "    }\n",
       "</style>\n",
       "<table border=\"1\" class=\"dataframe\">\n",
       "  <thead>\n",
       "    <tr style=\"text-align: right;\">\n",
       "      <th></th>\n",
       "      <th>Contribution</th>\n",
       "    </tr>\n",
       "  </thead>\n",
       "  <tbody>\n",
       "    <tr>\n",
       "      <th>x4</th>\n",
       "      <td>0.946491</td>\n",
       "    </tr>\n",
       "    <tr>\n",
       "      <th>x1</th>\n",
       "      <td>-0.017271</td>\n",
       "    </tr>\n",
       "    <tr>\n",
       "      <th>x6</th>\n",
       "      <td>0.016901</td>\n",
       "    </tr>\n",
       "    <tr>\n",
       "      <th>x2</th>\n",
       "      <td>0.012046</td>\n",
       "    </tr>\n",
       "    <tr>\n",
       "      <th>x5</th>\n",
       "      <td>0.004174</td>\n",
       "    </tr>\n",
       "    <tr>\n",
       "      <th>x3</th>\n",
       "      <td>0.003117</td>\n",
       "    </tr>\n",
       "  </tbody>\n",
       "</table>\n",
       "</div>"
      ],
      "text/plain": [
       "    Contribution\n",
       "x4      0.946491\n",
       "x1     -0.017271\n",
       "x6      0.016901\n",
       "x2      0.012046\n",
       "x5      0.004174\n",
       "x3      0.003117"
      ]
     },
     "execution_count": 27,
     "metadata": {},
     "output_type": "execute_result"
    }
   ],
   "source": [
    "explanation.model_table('tree')"
   ]
  },
  {
   "cell_type": "markdown",
   "id": "4b98abaf",
   "metadata": {},
   "source": [
    "### Known contributions for models"
   ]
  },
  {
   "cell_type": "code",
   "execution_count": 28,
   "id": "71bea8b7",
   "metadata": {},
   "outputs": [],
   "source": [
    "phi_lm = {columns[i]: lm.coef_[i] for i in range(len(columns))}\n",
    "xgb_score = xgb.get_booster().get_score(importance_type = 'gain')\n",
    "phi_xgb = {columns[i]: xgb_score['f' + str(i)] for i in range(len(columns))}  # map for xgboost\n",
    "tree_score = dtree.feature_importances_\n",
    "phi_tree = {columns[i]: tree_score[i] for i in range(len(columns))}"
   ]
  },
  {
   "cell_type": "code",
   "execution_count": 29,
   "id": "60d6ea32",
   "metadata": {},
   "outputs": [
    {
     "data": {
      "text/plain": [
       "{'x1': -7.555577399282871e-16,\n",
       " 'x2': 0.9999999999999966,\n",
       " 'x3': -1.9999999999999991,\n",
       " 'x4': -9.658608607294428e-16,\n",
       " 'x5': 8.000000000000002,\n",
       " 'x6': 8.999999999999998}"
      ]
     },
     "execution_count": 29,
     "metadata": {},
     "output_type": "execute_result"
    }
   ],
   "source": [
    "phi_lm"
   ]
  },
  {
   "cell_type": "code",
   "execution_count": 30,
   "id": "437ae752",
   "metadata": {},
   "outputs": [],
   "source": [
    "phis = {'lm': phi_lm, \n",
    "        'xgb': phi_xgb,\n",
    "        'tree': phi_tree}"
   ]
  },
  {
   "cell_type": "code",
   "execution_count": 31,
   "id": "7f476435",
   "metadata": {},
   "outputs": [
    {
     "data": {
      "text/html": [
       "<div>\n",
       "<style scoped>\n",
       "    .dataframe tbody tr th:only-of-type {\n",
       "        vertical-align: middle;\n",
       "    }\n",
       "\n",
       "    .dataframe tbody tr th {\n",
       "        vertical-align: top;\n",
       "    }\n",
       "\n",
       "    .dataframe thead th {\n",
       "        text-align: right;\n",
       "    }\n",
       "</style>\n",
       "<table border=\"1\" class=\"dataframe\">\n",
       "  <thead>\n",
       "    <tr style=\"text-align: right;\">\n",
       "      <th></th>\n",
       "      <th>Example</th>\n",
       "      <th>Contribution</th>\n",
       "    </tr>\n",
       "  </thead>\n",
       "  <tbody>\n",
       "    <tr>\n",
       "      <th>x3</th>\n",
       "      <td>0.122378</td>\n",
       "      <td>-0.887060</td>\n",
       "    </tr>\n",
       "    <tr>\n",
       "      <th>x4</th>\n",
       "      <td>0.288903</td>\n",
       "      <td>-0.745644</td>\n",
       "    </tr>\n",
       "    <tr>\n",
       "      <th>x2</th>\n",
       "      <td>0.277252</td>\n",
       "      <td>-0.595881</td>\n",
       "    </tr>\n",
       "    <tr>\n",
       "      <th>x6</th>\n",
       "      <td>0.300151</td>\n",
       "      <td>0.360574</td>\n",
       "    </tr>\n",
       "    <tr>\n",
       "      <th>x5</th>\n",
       "      <td>0.207442</td>\n",
       "      <td>0.320834</td>\n",
       "    </tr>\n",
       "    <tr>\n",
       "      <th>x1</th>\n",
       "      <td>0.799277</td>\n",
       "      <td>0.213178</td>\n",
       "    </tr>\n",
       "  </tbody>\n",
       "</table>\n",
       "</div>"
      ],
      "text/plain": [
       "     Example  Contribution\n",
       "x3  0.122378     -0.887060\n",
       "x4  0.288903     -0.745644\n",
       "x2  0.277252     -0.595881\n",
       "x6  0.300151      0.360574\n",
       "x5  0.207442      0.320834\n",
       "x1  0.799277      0.213178"
      ]
     },
     "execution_count": 31,
     "metadata": {},
     "output_type": "execute_result"
    }
   ],
   "source": [
    "explanation = explainer.explain(example, 'rul1', phis=phis)\n",
    "explanation.table(num_features=6)"
   ]
  },
  {
   "cell_type": "code",
   "execution_count": 32,
   "id": "bd9247b4",
   "metadata": {},
   "outputs": [
    {
     "data": {
      "text/html": [
       "<div>\n",
       "<style scoped>\n",
       "    .dataframe tbody tr th:only-of-type {\n",
       "        vertical-align: middle;\n",
       "    }\n",
       "\n",
       "    .dataframe tbody tr th {\n",
       "        vertical-align: top;\n",
       "    }\n",
       "\n",
       "    .dataframe thead th {\n",
       "        text-align: right;\n",
       "    }\n",
       "</style>\n",
       "<table border=\"1\" class=\"dataframe\">\n",
       "  <thead>\n",
       "    <tr style=\"text-align: right;\">\n",
       "      <th></th>\n",
       "      <th>Contribution</th>\n",
       "    </tr>\n",
       "  </thead>\n",
       "  <tbody>\n",
       "    <tr>\n",
       "      <th>x1</th>\n",
       "      <td>0.569994</td>\n",
       "    </tr>\n",
       "    <tr>\n",
       "      <th>x3</th>\n",
       "      <td>0.173636</td>\n",
       "    </tr>\n",
       "    <tr>\n",
       "      <th>x4</th>\n",
       "      <td>0.145336</td>\n",
       "    </tr>\n",
       "    <tr>\n",
       "      <th>x2</th>\n",
       "      <td>0.107269</td>\n",
       "    </tr>\n",
       "    <tr>\n",
       "      <th>x5</th>\n",
       "      <td>0.002231</td>\n",
       "    </tr>\n",
       "    <tr>\n",
       "      <th>x6</th>\n",
       "      <td>0.001534</td>\n",
       "    </tr>\n",
       "  </tbody>\n",
       "</table>\n",
       "</div>"
      ],
      "text/plain": [
       "    Contribution\n",
       "x1      0.569994\n",
       "x3      0.173636\n",
       "x4      0.145336\n",
       "x2      0.107269\n",
       "x5      0.002231\n",
       "x6      0.001534"
      ]
     },
     "execution_count": 32,
     "metadata": {},
     "output_type": "execute_result"
    }
   ],
   "source": [
    "explanation.model_table('xgb')"
   ]
  },
  {
   "cell_type": "code",
   "execution_count": 33,
   "id": "f0e88e4a",
   "metadata": {},
   "outputs": [
    {
     "data": {
      "text/html": [
       "<div>\n",
       "<style scoped>\n",
       "    .dataframe tbody tr th:only-of-type {\n",
       "        vertical-align: middle;\n",
       "    }\n",
       "\n",
       "    .dataframe tbody tr th {\n",
       "        vertical-align: top;\n",
       "    }\n",
       "\n",
       "    .dataframe thead th {\n",
       "        text-align: right;\n",
       "    }\n",
       "</style>\n",
       "<table border=\"1\" class=\"dataframe\">\n",
       "  <thead>\n",
       "    <tr style=\"text-align: right;\">\n",
       "      <th></th>\n",
       "      <th>Contribution</th>\n",
       "    </tr>\n",
       "  </thead>\n",
       "  <tbody>\n",
       "    <tr>\n",
       "      <th>x4</th>\n",
       "      <td>1.0</td>\n",
       "    </tr>\n",
       "    <tr>\n",
       "      <th>x1</th>\n",
       "      <td>0.0</td>\n",
       "    </tr>\n",
       "    <tr>\n",
       "      <th>x2</th>\n",
       "      <td>0.0</td>\n",
       "    </tr>\n",
       "    <tr>\n",
       "      <th>x3</th>\n",
       "      <td>0.0</td>\n",
       "    </tr>\n",
       "    <tr>\n",
       "      <th>x5</th>\n",
       "      <td>0.0</td>\n",
       "    </tr>\n",
       "    <tr>\n",
       "      <th>x6</th>\n",
       "      <td>0.0</td>\n",
       "    </tr>\n",
       "  </tbody>\n",
       "</table>\n",
       "</div>"
      ],
      "text/plain": [
       "    Contribution\n",
       "x4           1.0\n",
       "x1           0.0\n",
       "x2           0.0\n",
       "x3           0.0\n",
       "x5           0.0\n",
       "x6           0.0"
      ]
     },
     "execution_count": 33,
     "metadata": {},
     "output_type": "execute_result"
    }
   ],
   "source": [
    "explanation.model_table('tree')"
   ]
  }
 ],
 "metadata": {
  "kernelspec": {
   "display_name": "Python 3",
   "language": "python",
   "name": "python3"
  },
  "language_info": {
   "codemirror_mode": {
    "name": "ipython",
    "version": 3
   },
   "file_extension": ".py",
   "mimetype": "text/x-python",
   "name": "python",
   "nbconvert_exporter": "python",
   "pygments_lexer": "ipython3",
   "version": "3.8.8"
  }
 },
 "nbformat": 4,
 "nbformat_minor": 5
}
