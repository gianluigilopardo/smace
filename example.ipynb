{
 "cells": [
  {
   "cell_type": "code",
   "execution_count": 1,
   "id": "d7c94cba",
   "metadata": {},
   "outputs": [],
   "source": [
    "import json\n",
    "import numpy as np\n",
    "import pandas as pd\n",
    "import warnings\n",
    "from sklearn import linear_model\n",
    "import xgboost\n",
    "\n",
    "warnings.filterwarnings(\"ignore\")\n",
    "np.random.seed(seed=1)"
   ]
  },
  {
   "cell_type": "code",
   "execution_count": 2,
   "id": "0ece5ee2",
   "metadata": {},
   "outputs": [],
   "source": [
    "from smace.rules import Rule\n",
    "from smace.decisions import DM\n",
    "from smace.explainer import Smace\n",
    "from smace.models import Model\n",
    "from smace import utils"
   ]
  },
  {
   "cell_type": "markdown",
   "id": "d3b56a8c",
   "metadata": {},
   "source": [
    "**Data** is a uniform random sample $x_1,\\ldots,x_6 \\in [0,1]$."
   ]
  },
  {
   "cell_type": "code",
   "execution_count": 3,
   "id": "9e0513ec",
   "metadata": {},
   "outputs": [
    {
     "data": {
      "text/html": [
       "<div>\n",
       "<style scoped>\n",
       "    .dataframe tbody tr th:only-of-type {\n",
       "        vertical-align: middle;\n",
       "    }\n",
       "\n",
       "    .dataframe tbody tr th {\n",
       "        vertical-align: top;\n",
       "    }\n",
       "\n",
       "    .dataframe thead th {\n",
       "        text-align: right;\n",
       "    }\n",
       "</style>\n",
       "<table border=\"1\" class=\"dataframe\">\n",
       "  <thead>\n",
       "    <tr style=\"text-align: right;\">\n",
       "      <th></th>\n",
       "      <th>x1</th>\n",
       "      <th>x2</th>\n",
       "      <th>x3</th>\n",
       "      <th>x4</th>\n",
       "      <th>x5</th>\n",
       "      <th>x6</th>\n",
       "    </tr>\n",
       "  </thead>\n",
       "  <tbody>\n",
       "    <tr>\n",
       "      <th>0</th>\n",
       "      <td>0.417022</td>\n",
       "      <td>0.720324</td>\n",
       "      <td>0.000114</td>\n",
       "      <td>0.302333</td>\n",
       "      <td>0.146756</td>\n",
       "      <td>0.092339</td>\n",
       "    </tr>\n",
       "    <tr>\n",
       "      <th>1</th>\n",
       "      <td>0.186260</td>\n",
       "      <td>0.345561</td>\n",
       "      <td>0.396767</td>\n",
       "      <td>0.538817</td>\n",
       "      <td>0.419195</td>\n",
       "      <td>0.685220</td>\n",
       "    </tr>\n",
       "    <tr>\n",
       "      <th>2</th>\n",
       "      <td>0.204452</td>\n",
       "      <td>0.878117</td>\n",
       "      <td>0.027388</td>\n",
       "      <td>0.670468</td>\n",
       "      <td>0.417305</td>\n",
       "      <td>0.558690</td>\n",
       "    </tr>\n",
       "    <tr>\n",
       "      <th>3</th>\n",
       "      <td>0.140387</td>\n",
       "      <td>0.198101</td>\n",
       "      <td>0.800745</td>\n",
       "      <td>0.968262</td>\n",
       "      <td>0.313424</td>\n",
       "      <td>0.692323</td>\n",
       "    </tr>\n",
       "    <tr>\n",
       "      <th>4</th>\n",
       "      <td>0.876389</td>\n",
       "      <td>0.894607</td>\n",
       "      <td>0.085044</td>\n",
       "      <td>0.039055</td>\n",
       "      <td>0.169830</td>\n",
       "      <td>0.878143</td>\n",
       "    </tr>\n",
       "  </tbody>\n",
       "</table>\n",
       "</div>"
      ],
      "text/plain": [
       "         x1        x2        x3        x4        x5        x6\n",
       "0  0.417022  0.720324  0.000114  0.302333  0.146756  0.092339\n",
       "1  0.186260  0.345561  0.396767  0.538817  0.419195  0.685220\n",
       "2  0.204452  0.878117  0.027388  0.670468  0.417305  0.558690\n",
       "3  0.140387  0.198101  0.800745  0.968262  0.313424  0.692323\n",
       "4  0.876389  0.894607  0.085044  0.039055  0.169830  0.878143"
      ]
     },
     "execution_count": 3,
     "metadata": {},
     "output_type": "execute_result"
    }
   ],
   "source": [
    "# input data\n",
    "data = np.random.rand(1000, 6)\n",
    "columns = ['x1', 'x2', 'x3','x4','x5','x6']\n",
    "df = pd.DataFrame(data, columns=columns)\n",
    "df.head()"
   ]
  },
  {
   "cell_type": "markdown",
   "id": "cc479ea0",
   "metadata": {},
   "source": [
    "We read the json file containing the **rules**."
   ]
  },
  {
   "cell_type": "code",
   "execution_count": 4,
   "id": "c97fa676",
   "metadata": {},
   "outputs": [],
   "source": [
    "# decision rules\n",
    "with open('rules_example.json', 'r') as fp:\n",
    "    rules_json = json.load(fp)"
   ]
  },
  {
   "cell_type": "markdown",
   "id": "37fdd70e",
   "metadata": {},
   "source": [
    "There are two machine learning models: \n",
    "* *lm*: LinearRegression trained to fit the function $f_1 = 8x_5x_2-2x_3^2+x_6 $\n",
    "* *xgb*: XGBRegressor trained to fit $ f_2 = -100x_1+80x_2x_4+50x_3 $"
   ]
  },
  {
   "cell_type": "code",
   "execution_count": 5,
   "id": "619e32a7",
   "metadata": {},
   "outputs": [],
   "source": [
    "# models\n",
    "def f_1(x):\n",
    "    return 8*x[:, 4] + x[:, 1] - 2*x[:, 2] + 9*x[:, 5]\n",
    "\n",
    "def f_2(x):\n",
    "    return -100*x[:, 0] + 80*x[:, 1]*x[:, 3] +  50*x[:, 2]\n",
    "\n",
    "X = df.values\n",
    "y1 = f_1(X)\n",
    "y2 = f_2(X)\n",
    "\n",
    "lm = linear_model.LinearRegression()\n",
    "lm.fit(X,y1)\n",
    "\n",
    "xgb = xgboost.XGBRegressor()\n",
    "xgb.fit(X,y2)\n",
    "\n",
    "model_1 = Model(lm, 'lm', df)\n",
    "model_2 = Model(xgb, 'xgb', df)\n",
    "\n",
    "models_list = [model_1, model_2]"
   ]
  },
  {
   "cell_type": "code",
   "execution_count": 6,
   "id": "62b08ad8",
   "metadata": {},
   "outputs": [
    {
     "data": {
      "text/plain": [
       "array([-24.237932], dtype=float32)"
      ]
     },
     "execution_count": 6,
     "metadata": {},
     "output_type": "execute_result"
    }
   ],
   "source": [
    "model_2.predict(df.values[0])"
   ]
  },
  {
   "cell_type": "markdown",
   "id": "6e8f8d47",
   "metadata": {},
   "source": [
    "The decision-making system is defined by the triple (rules, models, data)."
   ]
  },
  {
   "cell_type": "code",
   "execution_count": 7,
   "id": "40102dfb",
   "metadata": {},
   "outputs": [],
   "source": [
    "# decision system\n",
    "dm = DM(rules_json, models_list, df) "
   ]
  },
  {
   "cell_type": "markdown",
   "id": "51cb8197",
   "metadata": {},
   "source": [
    "We take a random example $\\xi\\in[0,1]^6$."
   ]
  },
  {
   "cell_type": "code",
   "execution_count": 8,
   "id": "78f37698",
   "metadata": {},
   "outputs": [
    {
     "name": "stdout",
     "output_type": "stream",
     "text": [
      "[0.65756793 0.90917042 0.90195228 0.39085503 0.61253947 0.52183535]\n"
     ]
    }
   ],
   "source": [
    "example = np.random.rand(6)\n",
    "print(example)"
   ]
  },
  {
   "cell_type": "code",
   "execution_count": 9,
   "id": "dbd424f1",
   "metadata": {},
   "outputs": [
    {
     "name": "stdout",
     "output_type": "stream",
     "text": [
      "Rule(s) ['rul1', 'rul2', 'rul4', 'rul5'] triggered.\n",
      "Decision(s) ['dec1', 'dec2', 'dec4', 'dec5'] made.\n"
     ]
    }
   ],
   "source": [
    "dec = dm.make_decision(example, verbose=True)"
   ]
  },
  {
   "cell_type": "markdown",
   "id": "fa132cb8",
   "metadata": {},
   "source": [
    "Decision 'dec4' has been made for $\\xi$. \n",
    "We use SMACE to explain it."
   ]
  },
  {
   "cell_type": "code",
   "execution_count": 10,
   "id": "bb919bc5",
   "metadata": {},
   "outputs": [],
   "source": [
    "explainer = Smace(dm)"
   ]
  },
  {
   "cell_type": "code",
   "execution_count": 11,
   "id": "08540e79",
   "metadata": {},
   "outputs": [],
   "source": [
    "phi_lm = {columns[i]: lm.coef_[i] for i in range(len(columns))}\n",
    "score = xgb.get_booster().get_score(importance_type = 'gain')\n",
    "phi_xgb = {columns[i]: score['f' + str(i)] for i in range(len(columns))}  # map for xgboost"
   ]
  },
  {
   "cell_type": "code",
   "execution_count": 12,
   "id": "29df02e0",
   "metadata": {},
   "outputs": [],
   "source": [
    "phis = {'lm': phi_lm, \n",
    "        'xgb': phi_xgb}"
   ]
  },
  {
   "cell_type": "code",
   "execution_count": 13,
   "id": "e7fb7516",
   "metadata": {},
   "outputs": [
    {
     "data": {
      "text/html": [
       "<div>\n",
       "<style scoped>\n",
       "    .dataframe tbody tr th:only-of-type {\n",
       "        vertical-align: middle;\n",
       "    }\n",
       "\n",
       "    .dataframe tbody tr th {\n",
       "        vertical-align: top;\n",
       "    }\n",
       "\n",
       "    .dataframe thead th {\n",
       "        text-align: right;\n",
       "    }\n",
       "</style>\n",
       "<table border=\"1\" class=\"dataframe\">\n",
       "  <thead>\n",
       "    <tr style=\"text-align: right;\">\n",
       "      <th></th>\n",
       "      <th>Example</th>\n",
       "      <th>Contribution</th>\n",
       "    </tr>\n",
       "  </thead>\n",
       "  <tbody>\n",
       "    <tr>\n",
       "      <th>x1</th>\n",
       "      <td>0.657568</td>\n",
       "      <td>48.536619</td>\n",
       "    </tr>\n",
       "    <tr>\n",
       "      <th>x3</th>\n",
       "      <td>0.901952</td>\n",
       "      <td>14.329851</td>\n",
       "    </tr>\n",
       "    <tr>\n",
       "      <th>x4</th>\n",
       "      <td>0.390855</td>\n",
       "      <td>12.865099</td>\n",
       "    </tr>\n",
       "    <tr>\n",
       "      <th>x2</th>\n",
       "      <td>0.909170</td>\n",
       "      <td>9.160870</td>\n",
       "    </tr>\n",
       "  </tbody>\n",
       "</table>\n",
       "</div>"
      ],
      "text/plain": [
       "     Example  Contribution\n",
       "x1  0.657568     48.536619\n",
       "x3  0.901952     14.329851\n",
       "x4  0.390855     12.865099\n",
       "x2  0.909170      9.160870"
      ]
     },
     "execution_count": 13,
     "metadata": {},
     "output_type": "execute_result"
    }
   ],
   "source": [
    "explanation = explainer.explain(example, 'rul4', phis=phis)\n",
    "explanation.table(num_features=4)"
   ]
  },
  {
   "cell_type": "code",
   "execution_count": 14,
   "id": "938f7cf8",
   "metadata": {},
   "outputs": [
    {
     "data": {
      "text/plain": [
       "<AxesSubplot:>"
      ]
     },
     "execution_count": 14,
     "metadata": {},
     "output_type": "execute_result"
    },
    {
     "data": {
      "image/png": "[encoded data removed]",
      "text/plain": [
       "<Figure size 432x288 with 1 Axes>"
      ]
     },
     "metadata": {
      "needs_background": "light"
     },
     "output_type": "display_data"
    }
   ],
   "source": [
    "explanation.bar()"
   ]
  },
  {
   "cell_type": "markdown",
   "id": "888abc5b",
   "metadata": {},
   "source": [
    "We can also get partial explanation."
   ]
  },
  {
   "cell_type": "markdown",
   "id": "5b549c00",
   "metadata": {},
   "source": [
    "Contribution of each variable directly involved within the decision policy."
   ]
  },
  {
   "cell_type": "code",
   "execution_count": 15,
   "id": "3ae84632",
   "metadata": {
    "scrolled": true
   },
   "outputs": [
    {
     "data": {
      "text/html": [
       "<div>\n",
       "<style scoped>\n",
       "    .dataframe tbody tr th:only-of-type {\n",
       "        vertical-align: middle;\n",
       "    }\n",
       "\n",
       "    .dataframe tbody tr th {\n",
       "        vertical-align: top;\n",
       "    }\n",
       "\n",
       "    .dataframe thead th {\n",
       "        text-align: right;\n",
       "    }\n",
       "</style>\n",
       "<table border=\"1\" class=\"dataframe\">\n",
       "  <thead>\n",
       "    <tr style=\"text-align: right;\">\n",
       "      <th></th>\n",
       "      <th>Contribution</th>\n",
       "    </tr>\n",
       "  </thead>\n",
       "  <tbody>\n",
       "    <tr>\n",
       "      <th>xgb</th>\n",
       "      <td>0.948</td>\n",
       "    </tr>\n",
       "    <tr>\n",
       "      <th>x4</th>\n",
       "      <td>0.640</td>\n",
       "    </tr>\n",
       "    <tr>\n",
       "      <th>x1</th>\n",
       "      <td>0.591</td>\n",
       "    </tr>\n",
       "    <tr>\n",
       "      <th>lm</th>\n",
       "      <td>0.486</td>\n",
       "    </tr>\n",
       "    <tr>\n",
       "      <th>x2</th>\n",
       "      <td>0.000</td>\n",
       "    </tr>\n",
       "    <tr>\n",
       "      <th>x3</th>\n",
       "      <td>0.000</td>\n",
       "    </tr>\n",
       "    <tr>\n",
       "      <th>x5</th>\n",
       "      <td>0.000</td>\n",
       "    </tr>\n",
       "    <tr>\n",
       "      <th>x6</th>\n",
       "      <td>0.000</td>\n",
       "    </tr>\n",
       "  </tbody>\n",
       "</table>\n",
       "</div>"
      ],
      "text/plain": [
       "     Contribution\n",
       "xgb         0.948\n",
       "x4          0.640\n",
       "x1          0.591\n",
       "lm          0.486\n",
       "x2          0.000\n",
       "x3          0.000\n",
       "x5          0.000\n",
       "x6          0.000"
      ]
     },
     "execution_count": 15,
     "metadata": {},
     "output_type": "execute_result"
    }
   ],
   "source": [
    "explanation.rule_table()"
   ]
  },
  {
   "cell_type": "markdown",
   "id": "3d814b53",
   "metadata": {},
   "source": [
    "Contribution for model *lm*."
   ]
  },
  {
   "cell_type": "code",
   "execution_count": 16,
   "id": "b67dd9e6",
   "metadata": {},
   "outputs": [
    {
     "data": {
      "text/html": [
       "<div>\n",
       "<style scoped>\n",
       "    .dataframe tbody tr th:only-of-type {\n",
       "        vertical-align: middle;\n",
       "    }\n",
       "\n",
       "    .dataframe tbody tr th {\n",
       "        vertical-align: top;\n",
       "    }\n",
       "\n",
       "    .dataframe thead th {\n",
       "        text-align: right;\n",
       "    }\n",
       "</style>\n",
       "<table border=\"1\" class=\"dataframe\">\n",
       "  <thead>\n",
       "    <tr style=\"text-align: right;\">\n",
       "      <th></th>\n",
       "      <th>Contribution</th>\n",
       "    </tr>\n",
       "  </thead>\n",
       "  <tbody>\n",
       "    <tr>\n",
       "      <th>x6</th>\n",
       "      <td>2.552838e+00</td>\n",
       "    </tr>\n",
       "    <tr>\n",
       "      <th>x5</th>\n",
       "      <td>2.269189e+00</td>\n",
       "    </tr>\n",
       "    <tr>\n",
       "      <th>x3</th>\n",
       "      <td>-5.672974e-01</td>\n",
       "    </tr>\n",
       "    <tr>\n",
       "      <th>x2</th>\n",
       "      <td>2.836487e-01</td>\n",
       "    </tr>\n",
       "    <tr>\n",
       "      <th>x4</th>\n",
       "      <td>-2.739652e-16</td>\n",
       "    </tr>\n",
       "    <tr>\n",
       "      <th>x1</th>\n",
       "      <td>-2.143130e-16</td>\n",
       "    </tr>\n",
       "  </tbody>\n",
       "</table>\n",
       "</div>"
      ],
      "text/plain": [
       "    Contribution\n",
       "x6  2.552838e+00\n",
       "x5  2.269189e+00\n",
       "x3 -5.672974e-01\n",
       "x2  2.836487e-01\n",
       "x4 -2.739652e-16\n",
       "x1 -2.143130e-16"
      ]
     },
     "execution_count": 16,
     "metadata": {},
     "output_type": "execute_result"
    }
   ],
   "source": [
    "explanation.model_table('lm')"
   ]
  },
  {
   "cell_type": "code",
   "execution_count": 17,
   "id": "71a0b357",
   "metadata": {},
   "outputs": [
    {
     "data": {
      "text/plain": [
       "<AxesSubplot:>"
      ]
     },
     "execution_count": 17,
     "metadata": {},
     "output_type": "execute_result"
    },
    {
     "data": {
      "image/png": "[encoded data removed]",
      "text/plain": [
       "<Figure size 432x288 with 1 Axes>"
      ]
     },
     "metadata": {
      "needs_background": "light"
     },
     "output_type": "display_data"
    }
   ],
   "source": [
    "explanation.model_bar('lm')"
   ]
  },
  {
   "cell_type": "code",
   "execution_count": 18,
   "id": "6f45fe4f",
   "metadata": {},
   "outputs": [
    {
     "data": {
      "text/plain": [
       "<AxesSubplot:>"
      ]
     },
     "execution_count": 18,
     "metadata": {},
     "output_type": "execute_result"
    },
    {
     "data": {
      "image/png": "[encoded data removed]",
      "text/plain": [
       "<Figure size 432x288 with 1 Axes>"
      ]
     },
     "metadata": {
      "needs_background": "light"
     },
     "output_type": "display_data"
    }
   ],
   "source": [
    "explanation.model_bar('xgb')"
   ]
  },
  {
   "cell_type": "markdown",
   "id": "cd19731f",
   "metadata": {},
   "source": [
    "We may also wonder why 'dec1' was not made, i.e., why 'rul1' was not triggered."
   ]
  },
  {
   "cell_type": "code",
   "execution_count": 19,
   "id": "6365d425",
   "metadata": {},
   "outputs": [
    {
     "data": {
      "text/plain": [
       "<AxesSubplot:>"
      ]
     },
     "execution_count": 19,
     "metadata": {},
     "output_type": "execute_result"
    },
    {
     "data": {
      "image/png": "[encoded data removed]",
      "text/plain": [
       "<Figure size 432x288 with 1 Axes>"
      ]
     },
     "metadata": {
      "needs_background": "light"
     },
     "output_type": "display_data"
    }
   ],
   "source": [
    "explanation = explainer.explain(example, 'rul1')\n",
    "explanation.bar()"
   ]
  }
 ],
 "metadata": {
  "kernelspec": {
   "display_name": "Python 3",
   "language": "python",
   "name": "python3"
  },
  "language_info": {
   "codemirror_mode": {
    "name": "ipython",
    "version": 3
   },
   "file_extension": ".py",
   "mimetype": "text/x-python",
   "name": "python",
   "nbconvert_exporter": "python",
   "pygments_lexer": "ipython3",
   "version": "3.8.8"
  }
 },
 "nbformat": 4,
 "nbformat_minor": 5
}
