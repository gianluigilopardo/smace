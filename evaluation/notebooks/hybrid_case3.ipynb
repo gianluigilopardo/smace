{
 "cells": [
  {
   "cell_type": "markdown",
   "id": "c9f4b3f2",
   "metadata": {},
   "source": [
    "# Simple hybrid system\n",
    "## Case 3\n",
    "To evaluate the complete method, we now add two simple linear models mod_1 and mod_2 considering the example $\\xi = (0.6, 0.48, 0.1)$."
   ]
  },
  {
   "cell_type": "code",
   "execution_count": 1,
   "id": "3f2e3708",
   "metadata": {},
   "outputs": [],
   "source": [
    "import json\n",
    "import numpy as np\n",
    "import pandas as pd\n",
    "import warnings\n",
    "import shap\n",
    "import lime.lime_tabular\n",
    "import sys\n",
    "from sklearn import linear_model\n",
    "import os\n",
    "\n",
    "warnings.filterwarnings(\"ignore\")\n",
    "np.random.seed(seed=1)"
   ]
  },
  {
   "cell_type": "code",
   "execution_count": 2,
   "id": "c8e637f4",
   "metadata": {},
   "outputs": [],
   "source": [
    "# path here\n",
    "path = os.getcwd().replace(\"evaluation\", \"\")\n",
    "sys.path.append(path)"
   ]
  },
  {
   "cell_type": "code",
   "execution_count": 3,
   "id": "4eec81da",
   "metadata": {},
   "outputs": [],
   "source": [
    "from smace.rules import Rule\n",
    "from smace.decisions import DM\n",
    "from smace.explainer import Smace\n",
    "from smace.models import Model\n",
    "from smace import utils"
   ]
  },
  {
   "cell_type": "markdown",
   "id": "aae3cdb3",
   "metadata": {},
   "source": [
    "The input data is a random sample of three uniform variables $x_1$, $x_2$ and $x_3$ in $[0,1]$."
   ]
  },
  {
   "cell_type": "code",
   "execution_count": 4,
   "id": "e3f6e4dc",
   "metadata": {},
   "outputs": [
    {
     "data": {
      "text/html": [
       "<div>\n",
       "<style scoped>\n",
       "    .dataframe tbody tr th:only-of-type {\n",
       "        vertical-align: middle;\n",
       "    }\n",
       "\n",
       "    .dataframe tbody tr th {\n",
       "        vertical-align: top;\n",
       "    }\n",
       "\n",
       "    .dataframe thead th {\n",
       "        text-align: right;\n",
       "    }\n",
       "</style>\n",
       "<table border=\"1\" class=\"dataframe\">\n",
       "  <thead>\n",
       "    <tr style=\"text-align: right;\">\n",
       "      <th></th>\n",
       "      <th>x1</th>\n",
       "      <th>x2</th>\n",
       "      <th>x3</th>\n",
       "    </tr>\n",
       "  </thead>\n",
       "  <tbody>\n",
       "    <tr>\n",
       "      <th>0</th>\n",
       "      <td>0.417022</td>\n",
       "      <td>0.720324</td>\n",
       "      <td>0.000114</td>\n",
       "    </tr>\n",
       "    <tr>\n",
       "      <th>1</th>\n",
       "      <td>0.302333</td>\n",
       "      <td>0.146756</td>\n",
       "      <td>0.092339</td>\n",
       "    </tr>\n",
       "    <tr>\n",
       "      <th>2</th>\n",
       "      <td>0.186260</td>\n",
       "      <td>0.345561</td>\n",
       "      <td>0.396767</td>\n",
       "    </tr>\n",
       "    <tr>\n",
       "      <th>3</th>\n",
       "      <td>0.538817</td>\n",
       "      <td>0.419195</td>\n",
       "      <td>0.685220</td>\n",
       "    </tr>\n",
       "    <tr>\n",
       "      <th>4</th>\n",
       "      <td>0.204452</td>\n",
       "      <td>0.878117</td>\n",
       "      <td>0.027388</td>\n",
       "    </tr>\n",
       "  </tbody>\n",
       "</table>\n",
       "</div>"
      ],
      "text/plain": [
       "         x1        x2        x3\n",
       "0  0.417022  0.720324  0.000114\n",
       "1  0.302333  0.146756  0.092339\n",
       "2  0.186260  0.345561  0.396767\n",
       "3  0.538817  0.419195  0.685220\n",
       "4  0.204452  0.878117  0.027388"
      ]
     },
     "execution_count": 4,
     "metadata": {},
     "output_type": "execute_result"
    }
   ],
   "source": [
    "# input data\n",
    "data = np.random.rand(1000, 3)\n",
    "df = pd.DataFrame(data, columns=[\"x1\", \"x2\", \"x3\"])\n",
    "df.head()"
   ]
  },
  {
   "cell_type": "code",
   "execution_count": 5,
   "id": "b2cf4ba5",
   "metadata": {},
   "outputs": [],
   "source": [
    "# decision rules\n",
    "with open(\"rule_mod.json\", \"r\") as fp:\n",
    "    rules_json = json.load(fp)"
   ]
  },
  {
   "cell_type": "code",
   "execution_count": 6,
   "id": "aa3296b3",
   "metadata": {},
   "outputs": [
    {
     "name": "stdout",
     "output_type": "stream",
     "text": [
      "Model 1: 1*x2 + 2*x3\n",
      "Model 2: - 500*x2 + 1000*x3\n"
     ]
    }
   ],
   "source": [
    "# models\n",
    "def f_1(x):\n",
    "    return 1 * x[:, 1] + 2 * x[:, 2]\n",
    "\n",
    "\n",
    "print(\"Model 1: 1*x2 + 2*x3\")\n",
    "\n",
    "\n",
    "def f_2(x):\n",
    "    return -500 * x[:, 1] + 1000 * x[:, 2]\n",
    "\n",
    "\n",
    "print(\"Model 2: - 500*x2 + 1000*x3\")\n",
    "\n",
    "X = df.values\n",
    "y1 = f_1(X)\n",
    "y2 = f_2(X)\n",
    "\n",
    "reg1 = linear_model.LinearRegression()\n",
    "reg1.fit(X, y1)\n",
    "\n",
    "reg2 = linear_model.LinearRegression()\n",
    "reg2.fit(X, y2)\n",
    "\n",
    "model_1 = Model(reg1, \"mod_1\", df)\n",
    "model_2 = Model(reg2, \"mod_2\", df)\n",
    "\n",
    "models_list = [model_1, model_2]"
   ]
  },
  {
   "cell_type": "code",
   "execution_count": 7,
   "id": "4e2fa7e9",
   "metadata": {},
   "outputs": [],
   "source": [
    "# decision system\n",
    "dm = DM(rules_json, models_list, df)"
   ]
  },
  {
   "cell_type": "code",
   "execution_count": 8,
   "id": "44fd236c",
   "metadata": {},
   "outputs": [],
   "source": [
    "# Initialize the explainers\n",
    "explainer = Smace(dm)\n",
    "data_summary = shap.sample(df, 100)\n",
    "shap_explainer = shap.KernelExplainer(dm.make_decision_eval, data_summary)\n",
    "lime_explainer = lime.lime_tabular.LimeTabularExplainer(\n",
    "    df.values,\n",
    "    feature_names=df.columns,\n",
    "    discretize_continuous=True,\n",
    "    verbose=False,\n",
    "    mode=\"classification\",\n",
    ")"
   ]
  },
  {
   "cell_type": "code",
   "execution_count": 9,
   "id": "6390f6d5",
   "metadata": {},
   "outputs": [
    {
     "data": {
      "text/plain": [
       "['x1 <= 0.5', 'x2 >= 0.6', 'x3 >= 0.25', 'mod_1 >= 1', 'mod_2 <= 600']"
      ]
     },
     "execution_count": 9,
     "metadata": {},
     "output_type": "execute_result"
    }
   ],
   "source": [
    "dm.rules[\"case1\"].labels"
   ]
  },
  {
   "cell_type": "code",
   "execution_count": 10,
   "id": "d4a80639",
   "metadata": {},
   "outputs": [
    {
     "name": "stdout",
     "output_type": "stream",
     "text": [
      "[0.6  0.48 0.1 ]\n"
     ]
    }
   ],
   "source": [
    "example = np.array([0.6, 0.48, 0.1])\n",
    "print(example)"
   ]
  },
  {
   "cell_type": "code",
   "execution_count": 11,
   "id": "ebbbcf06",
   "metadata": {},
   "outputs": [
    {
     "name": "stdout",
     "output_type": "stream",
     "text": [
      "Model 1 predicts:  [0.68]\n",
      "Model 2 predicts:  [-140.]\n"
     ]
    }
   ],
   "source": [
    "print(\"Model 1 predicts: \", str(model_1.predict(example)))\n",
    "print(\"Model 2 predicts: \", str(model_2.predict(example)))"
   ]
  },
  {
   "cell_type": "markdown",
   "id": "aea26219",
   "metadata": {},
   "source": [
    "Not all conditions are met.\n",
    "\n",
    "We apply SMACE."
   ]
  },
  {
   "cell_type": "code",
   "execution_count": 12,
   "id": "ae487581",
   "metadata": {},
   "outputs": [],
   "source": [
    "explanation = explainer.explain(example, \"case1\")"
   ]
  },
  {
   "cell_type": "markdown",
   "id": "becc87a2",
   "metadata": {},
   "source": [
    "Let us start by explaining the models."
   ]
  },
  {
   "cell_type": "code",
   "execution_count": 13,
   "id": "11b453f1",
   "metadata": {},
   "outputs": [
    {
     "name": "stdout",
     "output_type": "stream",
     "text": [
      "Model 1\n",
      "Expected SHAP value for x1: 0*(x1-E[x1]) = 0.0\n",
      "Expected SHAP value for x2: 1.5*(x2-E[x2]) = -0.0662539490010366\n",
      "Expected SHAP value for x3: 2*(x3-E[x3]) = -1.2513002807242843\n"
     ]
    }
   ],
   "source": [
    "print(\"Model 1\")\n",
    "print(\n",
    "    \"Expected SHAP value for x1: 0*(x1-E[x1]) =\",\n",
    "    0 * (example[0] - df.x1.mean()) / model_1.predict(df).std(),\n",
    ")\n",
    "print(\n",
    "    \"Expected SHAP value for x2: 1.5*(x2-E[x2]) =\",\n",
    "    1.5 * (example[1] - df.x2.mean()) / model_1.predict(df).std(),\n",
    ")\n",
    "print(\n",
    "    \"Expected SHAP value for x3: 2*(x3-E[x3]) =\",\n",
    "    2 * (example[2] - df.x3.mean()) / model_1.predict(df).std(),\n",
    ")"
   ]
  },
  {
   "cell_type": "code",
   "execution_count": 14,
   "id": "df8fe2e8",
   "metadata": {},
   "outputs": [
    {
     "data": {
      "text/html": [
       "<div>\n",
       "<style scoped>\n",
       "    .dataframe tbody tr th:only-of-type {\n",
       "        vertical-align: middle;\n",
       "    }\n",
       "\n",
       "    .dataframe tbody tr th {\n",
       "        vertical-align: top;\n",
       "    }\n",
       "\n",
       "    .dataframe thead th {\n",
       "        text-align: right;\n",
       "    }\n",
       "</style>\n",
       "<table border=\"1\" class=\"dataframe\">\n",
       "  <thead>\n",
       "    <tr style=\"text-align: right;\">\n",
       "      <th></th>\n",
       "      <th>Contribution</th>\n",
       "    </tr>\n",
       "  </thead>\n",
       "  <tbody>\n",
       "    <tr>\n",
       "      <th>x3</th>\n",
       "      <td>-0.928114</td>\n",
       "    </tr>\n",
       "    <tr>\n",
       "      <th>x2</th>\n",
       "      <td>-0.071886</td>\n",
       "    </tr>\n",
       "    <tr>\n",
       "      <th>x1</th>\n",
       "      <td>0.000000</td>\n",
       "    </tr>\n",
       "  </tbody>\n",
       "</table>\n",
       "</div>"
      ],
      "text/plain": [
       "    Contribution\n",
       "x3     -0.928114\n",
       "x2     -0.071886\n",
       "x1      0.000000"
      ]
     },
     "execution_count": 14,
     "metadata": {},
     "output_type": "execute_result"
    }
   ],
   "source": [
    "explanation.model_table(\"mod_1\")"
   ]
  },
  {
   "cell_type": "code",
   "execution_count": 15,
   "id": "8aed3f12",
   "metadata": {},
   "outputs": [
    {
     "data": {
      "text/plain": [
       "<AxesSubplot:>"
      ]
     },
     "execution_count": 15,
     "metadata": {},
     "output_type": "execute_result"
    },
    {
     "data": {
      "image/png": "[encoded data removed]",
      "text/plain": [
       "<Figure size 432x288 with 1 Axes>"
      ]
     },
     "metadata": {
      "needs_background": "light"
     },
     "output_type": "display_data"
    }
   ],
   "source": [
    "explanation.model_bar(\"mod_1\")"
   ]
  },
  {
   "cell_type": "code",
   "execution_count": 16,
   "id": "e561d4bb",
   "metadata": {},
   "outputs": [
    {
     "name": "stdout",
     "output_type": "stream",
     "text": [
      "Model 2\n",
      "Expected SHAP value for x1: 0*(x1-E[x1]) = 0.0\n",
      "Expected SHAP value for x2: -500*(x2-E[x2]) = 0.043140916656214376\n",
      "Expected SHAP value for x3: 1000*(x3-E[x3]) = -1.2221665712736474\n"
     ]
    }
   ],
   "source": [
    "print(\"Model 2\")\n",
    "print(\n",
    "    \"Expected SHAP value for x1: 0*(x1-E[x1]) =\",\n",
    "    0 * (example[0] - df.x1.mean()) / model_2.predict(df).std(),\n",
    ")\n",
    "print(\n",
    "    \"Expected SHAP value for x2: -500*(x2-E[x2]) =\",\n",
    "    -500 * (example[1] - df.x2.mean()) / model_2.predict(df).std(),\n",
    ")\n",
    "print(\n",
    "    \"Expected SHAP value for x3: 1000*(x3-E[x3]) =\",\n",
    "    1000 * (example[2] - df.x3.mean()) / model_2.predict(df).std(),\n",
    ")"
   ]
  },
  {
   "cell_type": "code",
   "execution_count": 17,
   "id": "8429bcf7",
   "metadata": {},
   "outputs": [
    {
     "data": {
      "text/html": [
       "<div>\n",
       "<style scoped>\n",
       "    .dataframe tbody tr th:only-of-type {\n",
       "        vertical-align: middle;\n",
       "    }\n",
       "\n",
       "    .dataframe tbody tr th {\n",
       "        vertical-align: top;\n",
       "    }\n",
       "\n",
       "    .dataframe thead th {\n",
       "        text-align: right;\n",
       "    }\n",
       "</style>\n",
       "<table border=\"1\" class=\"dataframe\">\n",
       "  <thead>\n",
       "    <tr style=\"text-align: right;\">\n",
       "      <th></th>\n",
       "      <th>Contribution</th>\n",
       "    </tr>\n",
       "  </thead>\n",
       "  <tbody>\n",
       "    <tr>\n",
       "      <th>x3</th>\n",
       "      <td>-0.928114</td>\n",
       "    </tr>\n",
       "    <tr>\n",
       "      <th>x2</th>\n",
       "      <td>0.071886</td>\n",
       "    </tr>\n",
       "    <tr>\n",
       "      <th>x1</th>\n",
       "      <td>0.000000</td>\n",
       "    </tr>\n",
       "  </tbody>\n",
       "</table>\n",
       "</div>"
      ],
      "text/plain": [
       "    Contribution\n",
       "x3     -0.928114\n",
       "x2      0.071886\n",
       "x1      0.000000"
      ]
     },
     "execution_count": 17,
     "metadata": {},
     "output_type": "execute_result"
    }
   ],
   "source": [
    "explanation.model_table(\"mod_2\")"
   ]
  },
  {
   "cell_type": "code",
   "execution_count": 18,
   "id": "9d17fde8",
   "metadata": {},
   "outputs": [
    {
     "data": {
      "text/plain": [
       "<AxesSubplot:>"
      ]
     },
     "execution_count": 18,
     "metadata": {},
     "output_type": "execute_result"
    },
    {
     "data": {
      "image/png": "[encoded data removed]",
      "text/plain": [
       "<Figure size 432x288 with 1 Axes>"
      ]
     },
     "metadata": {
      "needs_background": "light"
     },
     "output_type": "display_data"
    }
   ],
   "source": [
    "explanation.model_bar(\"mod_2\")"
   ]
  },
  {
   "cell_type": "markdown",
   "id": "77ce3d66",
   "metadata": {},
   "source": [
    "We now get the explanation for the rule."
   ]
  },
  {
   "cell_type": "code",
   "execution_count": 19,
   "id": "82add660",
   "metadata": {},
   "outputs": [
    {
     "data": {
      "text/html": [
       "<div>\n",
       "<style scoped>\n",
       "    .dataframe tbody tr th:only-of-type {\n",
       "        vertical-align: middle;\n",
       "    }\n",
       "\n",
       "    .dataframe tbody tr th {\n",
       "        vertical-align: top;\n",
       "    }\n",
       "\n",
       "    .dataframe thead th {\n",
       "        text-align: right;\n",
       "    }\n",
       "</style>\n",
       "<table border=\"1\" class=\"dataframe\">\n",
       "  <thead>\n",
       "    <tr style=\"text-align: right;\">\n",
       "      <th></th>\n",
       "      <th>Contribution</th>\n",
       "    </tr>\n",
       "  </thead>\n",
       "  <tbody>\n",
       "    <tr>\n",
       "      <th>x1</th>\n",
       "      <td>-0.900</td>\n",
       "    </tr>\n",
       "    <tr>\n",
       "      <th>mod_1</th>\n",
       "      <td>-0.889</td>\n",
       "    </tr>\n",
       "    <tr>\n",
       "      <th>x2</th>\n",
       "      <td>-0.880</td>\n",
       "    </tr>\n",
       "    <tr>\n",
       "      <th>x3</th>\n",
       "      <td>-0.850</td>\n",
       "    </tr>\n",
       "    <tr>\n",
       "      <th>mod_2</th>\n",
       "      <td>0.496</td>\n",
       "    </tr>\n",
       "  </tbody>\n",
       "</table>\n",
       "</div>"
      ],
      "text/plain": [
       "       Contribution\n",
       "x1           -0.900\n",
       "mod_1        -0.889\n",
       "x2           -0.880\n",
       "x3           -0.850\n",
       "mod_2         0.496"
      ]
     },
     "execution_count": 19,
     "metadata": {},
     "output_type": "execute_result"
    }
   ],
   "source": [
    "explanation.rule_table()"
   ]
  },
  {
   "cell_type": "code",
   "execution_count": 20,
   "id": "7490d8f7",
   "metadata": {},
   "outputs": [
    {
     "data": {
      "text/plain": [
       "<AxesSubplot:>"
      ]
     },
     "execution_count": 20,
     "metadata": {},
     "output_type": "execute_result"
    },
    {
     "data": {
      "image/png": "[encoded data removed]",
      "text/plain": [
       "<Figure size 432x288 with 1 Axes>"
      ]
     },
     "metadata": {
      "needs_background": "light"
     },
     "output_type": "display_data"
    }
   ],
   "source": [
    "explanation.rule_bar()"
   ]
  },
  {
   "cell_type": "markdown",
   "id": "e054d3db",
   "metadata": {},
   "source": [
    "Finally, the aggregation project the contribution on input features.\n",
    "Let us compare our results with SHAP and LIME."
   ]
  },
  {
   "cell_type": "code",
   "execution_count": 21,
   "id": "97e9c6ad",
   "metadata": {},
   "outputs": [
    {
     "data": {
      "text/html": [
       "<div>\n",
       "<style scoped>\n",
       "    .dataframe tbody tr th:only-of-type {\n",
       "        vertical-align: middle;\n",
       "    }\n",
       "\n",
       "    .dataframe tbody tr th {\n",
       "        vertical-align: top;\n",
       "    }\n",
       "\n",
       "    .dataframe thead th {\n",
       "        text-align: right;\n",
       "    }\n",
       "</style>\n",
       "<table border=\"1\" class=\"dataframe\">\n",
       "  <thead>\n",
       "    <tr style=\"text-align: right;\">\n",
       "      <th></th>\n",
       "      <th>SMACE</th>\n",
       "      <th>SHAP</th>\n",
       "      <th>LIME</th>\n",
       "    </tr>\n",
       "  </thead>\n",
       "  <tbody>\n",
       "    <tr>\n",
       "      <th>x1</th>\n",
       "      <td>-0.900000</td>\n",
       "      <td>0.0</td>\n",
       "      <td>-0.004</td>\n",
       "    </tr>\n",
       "    <tr>\n",
       "      <th>x2</th>\n",
       "      <td>-0.780438</td>\n",
       "      <td>0.0</td>\n",
       "      <td>-0.386</td>\n",
       "    </tr>\n",
       "    <tr>\n",
       "      <th>x3</th>\n",
       "      <td>-0.485251</td>\n",
       "      <td>0.0</td>\n",
       "      <td>-0.386</td>\n",
       "    </tr>\n",
       "  </tbody>\n",
       "</table>\n",
       "</div>"
      ],
      "text/plain": [
       "       SMACE  SHAP   LIME\n",
       "x1 -0.900000   0.0 -0.004\n",
       "x2 -0.780438   0.0 -0.386\n",
       "x3 -0.485251   0.0 -0.386"
      ]
     },
     "execution_count": 21,
     "metadata": {},
     "output_type": "execute_result"
    }
   ],
   "source": [
    "e = explanation.exp\n",
    "shap_values = shap_explainer.shap_values(example)[0]\n",
    "exp = lime_explainer.explain_instance(example, dm.make_decision_class)\n",
    "lime_values = utils.lime_mapper(exp)\n",
    "res = pd.DataFrame(index=list(e.keys()))\n",
    "res[\"SMACE\"] = list(e.values())\n",
    "res[\"SHAP\"] = np.round(shap_values, 3)\n",
    "res[\"LIME\"] = np.round(lime_values, 3)\n",
    "res"
   ]
  },
  {
   "cell_type": "code",
   "execution_count": 22,
   "id": "4cf493d8",
   "metadata": {},
   "outputs": [
    {
     "data": {
      "text/plain": [
       "<AxesSubplot:>"
      ]
     },
     "execution_count": 22,
     "metadata": {},
     "output_type": "execute_result"
    },
    {
     "data": {
      "image/png": "[encoded data removed]",
      "text/plain": [
       "<Figure size 432x288 with 1 Axes>"
      ]
     },
     "metadata": {
      "needs_background": "light"
     },
     "output_type": "display_data"
    }
   ],
   "source": [
    "res.plot.barh()"
   ]
  },
  {
   "cell_type": "code",
   "execution_count": 23,
   "id": "6f9820d9",
   "metadata": {},
   "outputs": [
    {
     "name": "stdout",
     "output_type": "stream",
     "text": [
      "Anchors\n",
      "Anchor: x2 <= 0.52\n",
      "Precision: 1.00\n",
      "Coverage: 0.50\n"
     ]
    }
   ],
   "source": [
    "# Anchors\n",
    "from anchor import anchor_tabular\n",
    "\n",
    "print(\"Anchors\")\n",
    "anchors_exp = anchor_tabular.AnchorTabularExplainer([0, 1], df.columns, df.values)\n",
    "exp = anchors_exp.explain_instance(example, dm.make_decision_eval, threshold=0.95)\n",
    "print(\"Anchor: %s\" % (\" AND \".join(exp.names())))\n",
    "print(\"Precision: %.2f\" % exp.precision())\n",
    "print(\"Coverage: %.2f\" % exp.coverage())"
   ]
  }
 ],
 "metadata": {
  "kernelspec": {
   "display_name": "Python 3",
   "language": "python",
   "name": "python3"
  },
  "language_info": {
   "codemirror_mode": {
    "name": "ipython",
    "version": 3
   },
   "file_extension": ".py",
   "mimetype": "text/x-python",
   "name": "python",
   "nbconvert_exporter": "python",
   "pygments_lexer": "ipython3",
   "version": "3.8.8"
  }
 },
 "nbformat": 4,
 "nbformat_minor": 5
}
