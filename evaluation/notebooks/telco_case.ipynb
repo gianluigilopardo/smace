{
 "cells": [
  {
   "cell_type": "markdown",
   "id": "cd582d70",
   "metadata": {},
   "source": [
    "# Real-world use case\n",
    "## Retention offer"
   ]
  },
  {
   "cell_type": "code",
   "execution_count": 1,
   "id": "37aa4bc2",
   "metadata": {},
   "outputs": [],
   "source": [
    "import json\n",
    "import numpy as np\n",
    "import pandas as pd\n",
    "import warnings\n",
    "import shap\n",
    "import lime.lime_tabular\n",
    "import sys\n",
    "import sklearn\n",
    "import xgboost as xgb\n",
    "from sklearn.model_selection import train_test_split\n",
    "import os\n",
    "\n",
    "warnings.filterwarnings(\"ignore\")\n",
    "np.random.seed(seed=1)"
   ]
  },
  {
   "cell_type": "code",
   "execution_count": 2,
   "id": "20d55715",
   "metadata": {},
   "outputs": [],
   "source": [
    "# path here\n",
    "path = os.getcwd().replace('evaluation','')\n",
    "sys.path.append(path)"
   ]
  },
  {
   "cell_type": "code",
   "execution_count": 3,
   "id": "8be870f2",
   "metadata": {},
   "outputs": [],
   "source": [
    "from smace.rules import Rule\n",
    "from smace.decisions import DM\n",
    "from smace.explainer import Smace\n",
    "from smace.models import Model\n",
    "from smace import utils"
   ]
  },
  {
   "cell_type": "code",
   "execution_count": 4,
   "id": "74be5c7d",
   "metadata": {},
   "outputs": [],
   "source": [
    "# input data\n",
    "df = pd.read_csv('telco_data.csv').drop(columns={'ID'})"
   ]
  },
  {
   "cell_type": "code",
   "execution_count": 5,
   "id": "b40e87e0",
   "metadata": {},
   "outputs": [
    {
     "data": {
      "text/html": [
       "<div>\n",
       "<style scoped>\n",
       "    .dataframe tbody tr th:only-of-type {\n",
       "        vertical-align: middle;\n",
       "    }\n",
       "\n",
       "    .dataframe tbody tr th {\n",
       "        vertical-align: top;\n",
       "    }\n",
       "\n",
       "    .dataframe thead th {\n",
       "        text-align: right;\n",
       "    }\n",
       "</style>\n",
       "<table border=\"1\" class=\"dataframe\">\n",
       "  <thead>\n",
       "    <tr style=\"text-align: right;\">\n",
       "      <th></th>\n",
       "      <th>CHURN</th>\n",
       "      <th>Gender</th>\n",
       "      <th>Status</th>\n",
       "      <th>Children</th>\n",
       "      <th>Est Income</th>\n",
       "      <th>Car Owner</th>\n",
       "      <th>Age</th>\n",
       "      <th>LongDistance</th>\n",
       "      <th>International</th>\n",
       "      <th>Local</th>\n",
       "      <th>Dropped</th>\n",
       "      <th>Paymethod</th>\n",
       "      <th>LocalBilltype</th>\n",
       "      <th>LongDistanceBilltype</th>\n",
       "      <th>Usage</th>\n",
       "      <th>RatePlan</th>\n",
       "      <th>LTV</th>\n",
       "    </tr>\n",
       "  </thead>\n",
       "  <tbody>\n",
       "    <tr>\n",
       "      <th>0</th>\n",
       "      <td>T</td>\n",
       "      <td>F</td>\n",
       "      <td>S</td>\n",
       "      <td>1</td>\n",
       "      <td>38000.00</td>\n",
       "      <td>N</td>\n",
       "      <td>24.393333</td>\n",
       "      <td>23.56</td>\n",
       "      <td>0.0</td>\n",
       "      <td>206.08</td>\n",
       "      <td>0</td>\n",
       "      <td>CC</td>\n",
       "      <td>Budget</td>\n",
       "      <td>Intnl_discount</td>\n",
       "      <td>229.64</td>\n",
       "      <td>3</td>\n",
       "      <td>2739.24</td>\n",
       "    </tr>\n",
       "    <tr>\n",
       "      <th>1</th>\n",
       "      <td>F</td>\n",
       "      <td>M</td>\n",
       "      <td>M</td>\n",
       "      <td>2</td>\n",
       "      <td>29616.00</td>\n",
       "      <td>N</td>\n",
       "      <td>49.426667</td>\n",
       "      <td>29.78</td>\n",
       "      <td>0.0</td>\n",
       "      <td>45.50</td>\n",
       "      <td>0</td>\n",
       "      <td>CH</td>\n",
       "      <td>FreeLocal</td>\n",
       "      <td>Standard</td>\n",
       "      <td>75.29</td>\n",
       "      <td>2</td>\n",
       "      <td>740.08</td>\n",
       "    </tr>\n",
       "    <tr>\n",
       "      <th>2</th>\n",
       "      <td>F</td>\n",
       "      <td>M</td>\n",
       "      <td>M</td>\n",
       "      <td>0</td>\n",
       "      <td>19732.80</td>\n",
       "      <td>N</td>\n",
       "      <td>50.673333</td>\n",
       "      <td>24.81</td>\n",
       "      <td>0.0</td>\n",
       "      <td>22.44</td>\n",
       "      <td>0</td>\n",
       "      <td>CC</td>\n",
       "      <td>FreeLocal</td>\n",
       "      <td>Standard</td>\n",
       "      <td>47.25</td>\n",
       "      <td>3</td>\n",
       "      <td>527.79</td>\n",
       "    </tr>\n",
       "    <tr>\n",
       "      <th>3</th>\n",
       "      <td>F</td>\n",
       "      <td>M</td>\n",
       "      <td>S</td>\n",
       "      <td>2</td>\n",
       "      <td>96.33</td>\n",
       "      <td>N</td>\n",
       "      <td>56.473333</td>\n",
       "      <td>26.13</td>\n",
       "      <td>0.0</td>\n",
       "      <td>32.88</td>\n",
       "      <td>1</td>\n",
       "      <td>CC</td>\n",
       "      <td>Budget</td>\n",
       "      <td>Standard</td>\n",
       "      <td>59.01</td>\n",
       "      <td>1</td>\n",
       "      <td>613.85</td>\n",
       "    </tr>\n",
       "    <tr>\n",
       "      <th>4</th>\n",
       "      <td>F</td>\n",
       "      <td>F</td>\n",
       "      <td>M</td>\n",
       "      <td>2</td>\n",
       "      <td>52004.80</td>\n",
       "      <td>N</td>\n",
       "      <td>25.140000</td>\n",
       "      <td>5.03</td>\n",
       "      <td>0.0</td>\n",
       "      <td>23.11</td>\n",
       "      <td>0</td>\n",
       "      <td>CH</td>\n",
       "      <td>Budget</td>\n",
       "      <td>Intnl_discount</td>\n",
       "      <td>28.14</td>\n",
       "      <td>1</td>\n",
       "      <td>602.80</td>\n",
       "    </tr>\n",
       "  </tbody>\n",
       "</table>\n",
       "</div>"
      ],
      "text/plain": [
       "  CHURN Gender Status  Children  Est Income Car Owner        Age  \\\n",
       "0     T      F      S         1    38000.00         N  24.393333   \n",
       "1     F      M      M         2    29616.00         N  49.426667   \n",
       "2     F      M      M         0    19732.80         N  50.673333   \n",
       "3     F      M      S         2       96.33         N  56.473333   \n",
       "4     F      F      M         2    52004.80         N  25.140000   \n",
       "\n",
       "   LongDistance  International   Local  Dropped Paymethod LocalBilltype  \\\n",
       "0         23.56            0.0  206.08        0        CC        Budget   \n",
       "1         29.78            0.0   45.50        0        CH     FreeLocal   \n",
       "2         24.81            0.0   22.44        0        CC     FreeLocal   \n",
       "3         26.13            0.0   32.88        1        CC        Budget   \n",
       "4          5.03            0.0   23.11        0        CH        Budget   \n",
       "\n",
       "  LongDistanceBilltype   Usage  RatePlan      LTV  \n",
       "0       Intnl_discount  229.64         3  2739.24  \n",
       "1             Standard   75.29         2   740.08  \n",
       "2             Standard   47.25         3   527.79  \n",
       "3             Standard   59.01         1   613.85  \n",
       "4       Intnl_discount   28.14         1   602.80  "
      ]
     },
     "execution_count": 5,
     "metadata": {},
     "output_type": "execute_result"
    }
   ],
   "source": [
    "df.head()"
   ]
  },
  {
   "cell_type": "code",
   "execution_count": 6,
   "id": "54d4a382",
   "metadata": {},
   "outputs": [],
   "source": [
    "# decision rules\n",
    "with open('telco_rules.json', 'r') as fp:\n",
    "    rules_json = json.load(fp)"
   ]
  },
  {
   "cell_type": "code",
   "execution_count": 7,
   "id": "5fd9e10e",
   "metadata": {},
   "outputs": [],
   "source": [
    "# preprocess\n",
    "categorical_names = ['Gender', 'Status', 'Car Owner', 'Paymethod', 'LocalBilltype', 'LongDistanceBilltype']\n",
    "\n",
    "def df_prep(dataframe):\n",
    "    # String to numbers: {F,M} -> {0,1}\n",
    "    for feature in categorical_names:\n",
    "        le = sklearn.preprocessing.LabelEncoder()\n",
    "        le.fit(dataframe[feature].astype(str))\n",
    "        dataframe[feature] = le.transform(dataframe[feature].astype(str))\n",
    "    return dataframe"
   ]
  },
  {
   "cell_type": "code",
   "execution_count": 8,
   "id": "0c0bedc2",
   "metadata": {},
   "outputs": [
    {
     "data": {
      "text/html": [
       "<div>\n",
       "<style scoped>\n",
       "    .dataframe tbody tr th:only-of-type {\n",
       "        vertical-align: middle;\n",
       "    }\n",
       "\n",
       "    .dataframe tbody tr th {\n",
       "        vertical-align: top;\n",
       "    }\n",
       "\n",
       "    .dataframe thead th {\n",
       "        text-align: right;\n",
       "    }\n",
       "</style>\n",
       "<table border=\"1\" class=\"dataframe\">\n",
       "  <thead>\n",
       "    <tr style=\"text-align: right;\">\n",
       "      <th></th>\n",
       "      <th>Gender</th>\n",
       "      <th>Status</th>\n",
       "      <th>Children</th>\n",
       "      <th>Est Income</th>\n",
       "      <th>Car Owner</th>\n",
       "      <th>Age</th>\n",
       "      <th>LongDistance</th>\n",
       "      <th>International</th>\n",
       "      <th>Local</th>\n",
       "      <th>Dropped</th>\n",
       "      <th>Paymethod</th>\n",
       "      <th>LocalBilltype</th>\n",
       "      <th>LongDistanceBilltype</th>\n",
       "      <th>Usage</th>\n",
       "      <th>RatePlan</th>\n",
       "    </tr>\n",
       "  </thead>\n",
       "  <tbody>\n",
       "    <tr>\n",
       "      <th>0</th>\n",
       "      <td>0</td>\n",
       "      <td>2</td>\n",
       "      <td>1</td>\n",
       "      <td>38000.00</td>\n",
       "      <td>0</td>\n",
       "      <td>24.393333</td>\n",
       "      <td>23.56</td>\n",
       "      <td>0.0</td>\n",
       "      <td>206.08</td>\n",
       "      <td>0</td>\n",
       "      <td>1</td>\n",
       "      <td>0</td>\n",
       "      <td>0</td>\n",
       "      <td>229.64</td>\n",
       "      <td>3</td>\n",
       "    </tr>\n",
       "    <tr>\n",
       "      <th>1</th>\n",
       "      <td>1</td>\n",
       "      <td>1</td>\n",
       "      <td>2</td>\n",
       "      <td>29616.00</td>\n",
       "      <td>0</td>\n",
       "      <td>49.426667</td>\n",
       "      <td>29.78</td>\n",
       "      <td>0.0</td>\n",
       "      <td>45.50</td>\n",
       "      <td>0</td>\n",
       "      <td>2</td>\n",
       "      <td>1</td>\n",
       "      <td>1</td>\n",
       "      <td>75.29</td>\n",
       "      <td>2</td>\n",
       "    </tr>\n",
       "    <tr>\n",
       "      <th>2</th>\n",
       "      <td>1</td>\n",
       "      <td>1</td>\n",
       "      <td>0</td>\n",
       "      <td>19732.80</td>\n",
       "      <td>0</td>\n",
       "      <td>50.673333</td>\n",
       "      <td>24.81</td>\n",
       "      <td>0.0</td>\n",
       "      <td>22.44</td>\n",
       "      <td>0</td>\n",
       "      <td>1</td>\n",
       "      <td>1</td>\n",
       "      <td>1</td>\n",
       "      <td>47.25</td>\n",
       "      <td>3</td>\n",
       "    </tr>\n",
       "    <tr>\n",
       "      <th>3</th>\n",
       "      <td>1</td>\n",
       "      <td>2</td>\n",
       "      <td>2</td>\n",
       "      <td>96.33</td>\n",
       "      <td>0</td>\n",
       "      <td>56.473333</td>\n",
       "      <td>26.13</td>\n",
       "      <td>0.0</td>\n",
       "      <td>32.88</td>\n",
       "      <td>1</td>\n",
       "      <td>1</td>\n",
       "      <td>0</td>\n",
       "      <td>1</td>\n",
       "      <td>59.01</td>\n",
       "      <td>1</td>\n",
       "    </tr>\n",
       "    <tr>\n",
       "      <th>4</th>\n",
       "      <td>0</td>\n",
       "      <td>1</td>\n",
       "      <td>2</td>\n",
       "      <td>52004.80</td>\n",
       "      <td>0</td>\n",
       "      <td>25.140000</td>\n",
       "      <td>5.03</td>\n",
       "      <td>0.0</td>\n",
       "      <td>23.11</td>\n",
       "      <td>0</td>\n",
       "      <td>2</td>\n",
       "      <td>0</td>\n",
       "      <td>0</td>\n",
       "      <td>28.14</td>\n",
       "      <td>1</td>\n",
       "    </tr>\n",
       "  </tbody>\n",
       "</table>\n",
       "</div>"
      ],
      "text/plain": [
       "   Gender  Status  Children  Est Income  Car Owner        Age  LongDistance  \\\n",
       "0       0       2         1    38000.00          0  24.393333         23.56   \n",
       "1       1       1         2    29616.00          0  49.426667         29.78   \n",
       "2       1       1         0    19732.80          0  50.673333         24.81   \n",
       "3       1       2         2       96.33          0  56.473333         26.13   \n",
       "4       0       1         2    52004.80          0  25.140000          5.03   \n",
       "\n",
       "   International   Local  Dropped  Paymethod  LocalBilltype  \\\n",
       "0            0.0  206.08        0          1              0   \n",
       "1            0.0   45.50        0          2              1   \n",
       "2            0.0   22.44        0          1              1   \n",
       "3            0.0   32.88        1          1              0   \n",
       "4            0.0   23.11        0          2              0   \n",
       "\n",
       "   LongDistanceBilltype   Usage  RatePlan  \n",
       "0                     0  229.64         3  \n",
       "1                     1   75.29         2  \n",
       "2                     1   47.25         3  \n",
       "3                     1   59.01         1  \n",
       "4                     0   28.14         1  "
      ]
     },
     "execution_count": 8,
     "metadata": {},
     "output_type": "execute_result"
    }
   ],
   "source": [
    "# training data\n",
    "y_cr = df.CHURN\n",
    "y_ltv = df.LTV\n",
    "\n",
    "data = df_prep(df.drop(columns={'CHURN', 'LTV'}))\n",
    "data.head()"
   ]
  },
  {
   "cell_type": "code",
   "execution_count": 9,
   "id": "70e9b8e9",
   "metadata": {},
   "outputs": [],
   "source": [
    "# preprocess       \n",
    "X = data.copy()\n",
    "for feature in categorical_names:\n",
    "    # ONE HOT ENCODING\n",
    "    # Adding the new columns\n",
    "    X = pd.concat([X, pd.get_dummies(X[feature], prefix=feature)], axis=1)\n",
    "    # Removing the old nominal variables\n",
    "    X.drop([feature], axis=1, inplace=True)\n",
    "X = X.values"
   ]
  },
  {
   "cell_type": "code",
   "execution_count": 10,
   "id": "58f356ed",
   "metadata": {},
   "outputs": [],
   "source": [
    "# models\n",
    "xgb_cr = xgb.XGBClassifier(objective='reg:logistic').fit(X, y_cr)\n",
    "xgb_ltv = xgb.XGBRegressor().fit(X, y_ltv)"
   ]
  },
  {
   "cell_type": "code",
   "execution_count": 11,
   "id": "a71b2ee8",
   "metadata": {},
   "outputs": [],
   "source": [
    "# preprocess for example  \n",
    "def preprocess(x):\n",
    "    X = data.copy()\n",
    "    if x.ndim == 1:\n",
    "        x = np.expand_dims(list(x), axis=0)\n",
    "    x = pd.DataFrame(x, columns=list(X.columns))\n",
    "    x = df_prep(x)\n",
    "    X = X.append(x)\n",
    "    for feature in categorical_names:\n",
    "        # ONE HOT ENCODING\n",
    "        # Adding the new columns\n",
    "        X = pd.concat([X, pd.get_dummies(X[feature], prefix=feature)], axis=1)\n",
    "        # Removing the old nominal variables\n",
    "        X.drop([feature], axis=1, inplace=True)\n",
    "    return X.tail(x.shape[0]).values.astype(np.float)"
   ]
  },
  {
   "cell_type": "code",
   "execution_count": 12,
   "id": "1630d1da",
   "metadata": {},
   "outputs": [],
   "source": [
    "cr_mod = Model(xgb_cr, 'cr', data, mode='classification', preprocess=preprocess)\n",
    "ltv_mod = Model(xgb_ltv, 'ltv', data, mode='regression', preprocess=preprocess)\n",
    "\n",
    "models_list = [cr_mod, ltv_mod]"
   ]
  },
  {
   "cell_type": "code",
   "execution_count": 13,
   "id": "56fce75c",
   "metadata": {
    "scrolled": true
   },
   "outputs": [],
   "source": [
    "# decision system\n",
    "dm = DM(rules_json, models_list, data)"
   ]
  },
  {
   "cell_type": "code",
   "execution_count": 14,
   "id": "681f40b7",
   "metadata": {},
   "outputs": [
    {
     "data": {
      "text/plain": [
       "['Age <= 50', 'ltv >= 500', 'cr >= 0.5', 'Usage >= 200', 'Local > 200']"
      ]
     },
     "execution_count": 14,
     "metadata": {},
     "output_type": "execute_result"
    }
   ],
   "source": [
    "dm.rules['simple'].labels"
   ]
  },
  {
   "cell_type": "code",
   "execution_count": 15,
   "id": "0e8f4870",
   "metadata": {},
   "outputs": [
    {
     "name": "stdout",
     "output_type": "stream",
     "text": [
      "Gender                      1.000000\n",
      "Status                      1.000000\n",
      "Children                    2.000000\n",
      "Est Income              29616.000000\n",
      "Car Owner                   0.000000\n",
      "Age                        49.426667\n",
      "LongDistance               29.780000\n",
      "International               0.000000\n",
      "Local                      45.500000\n",
      "Dropped                     0.000000\n",
      "Paymethod                   2.000000\n",
      "LocalBilltype               1.000000\n",
      "LongDistanceBilltype        1.000000\n",
      "Usage                      75.290000\n",
      "RatePlan                    2.000000\n",
      "Name: 1, dtype: float64\n"
     ]
    }
   ],
   "source": [
    "example = data.loc[1]\n",
    "print(example)"
   ]
  },
  {
   "cell_type": "code",
   "execution_count": 16,
   "id": "8db5799a",
   "metadata": {},
   "outputs": [
    {
     "name": "stdout",
     "output_type": "stream",
     "text": [
      "cr_mod predicts:  [0.05124499]\n",
      "ltv_mod predicts:  [766.62006]\n",
      "Not all conditions are met.\n"
     ]
    }
   ],
   "source": [
    "print('cr_mod predicts: ', str(cr_mod.predict(example)))\n",
    "print('ltv_mod predicts: ', str(ltv_mod.predict(example)))\n",
    "print('Not all conditions are met.')"
   ]
  },
  {
   "cell_type": "markdown",
   "id": "aea26219",
   "metadata": {},
   "source": [
    "Not all conditions are met.\n",
    "\n",
    "We apply SMACE."
   ]
  },
  {
   "cell_type": "code",
   "execution_count": 17,
   "id": "7eec40f0",
   "metadata": {},
   "outputs": [],
   "source": [
    "# Initialize the explainers\n",
    "explainer = Smace(dm)\n",
    "explanation = explainer.explain(example, 'simple')"
   ]
  },
  {
   "cell_type": "code",
   "execution_count": 18,
   "id": "1f7019d2",
   "metadata": {},
   "outputs": [
    {
     "data": {
      "text/html": [
       "<div>\n",
       "<style scoped>\n",
       "    .dataframe tbody tr th:only-of-type {\n",
       "        vertical-align: middle;\n",
       "    }\n",
       "\n",
       "    .dataframe tbody tr th {\n",
       "        vertical-align: top;\n",
       "    }\n",
       "\n",
       "    .dataframe thead th {\n",
       "        text-align: right;\n",
       "    }\n",
       "</style>\n",
       "<table border=\"1\" class=\"dataframe\">\n",
       "  <thead>\n",
       "    <tr style=\"text-align: right;\">\n",
       "      <th></th>\n",
       "      <th>Contribution</th>\n",
       "    </tr>\n",
       "  </thead>\n",
       "  <tbody>\n",
       "    <tr>\n",
       "      <th>Children</th>\n",
       "      <td>-0.279174</td>\n",
       "    </tr>\n",
       "    <tr>\n",
       "      <th>Status</th>\n",
       "      <td>-0.260145</td>\n",
       "    </tr>\n",
       "    <tr>\n",
       "      <th>LongDistance</th>\n",
       "      <td>0.092239</td>\n",
       "    </tr>\n",
       "    <tr>\n",
       "      <th>RatePlan</th>\n",
       "      <td>-0.076773</td>\n",
       "    </tr>\n",
       "    <tr>\n",
       "      <th>Est Income</th>\n",
       "      <td>-0.071027</td>\n",
       "    </tr>\n",
       "  </tbody>\n",
       "</table>\n",
       "</div>"
      ],
      "text/plain": [
       "              Contribution\n",
       "Children         -0.279174\n",
       "Status           -0.260145\n",
       "LongDistance      0.092239\n",
       "RatePlan         -0.076773\n",
       "Est Income       -0.071027"
      ]
     },
     "execution_count": 18,
     "metadata": {},
     "output_type": "execute_result"
    }
   ],
   "source": [
    "explanation.model_table('cr')"
   ]
  },
  {
   "cell_type": "code",
   "execution_count": 19,
   "id": "64dd2eab",
   "metadata": {},
   "outputs": [
    {
     "data": {
      "text/html": [
       "<div>\n",
       "<style scoped>\n",
       "    .dataframe tbody tr th:only-of-type {\n",
       "        vertical-align: middle;\n",
       "    }\n",
       "\n",
       "    .dataframe tbody tr th {\n",
       "        vertical-align: top;\n",
       "    }\n",
       "\n",
       "    .dataframe thead th {\n",
       "        text-align: right;\n",
       "    }\n",
       "</style>\n",
       "<table border=\"1\" class=\"dataframe\">\n",
       "  <thead>\n",
       "    <tr style=\"text-align: right;\">\n",
       "      <th></th>\n",
       "      <th>Contribution</th>\n",
       "    </tr>\n",
       "  </thead>\n",
       "  <tbody>\n",
       "    <tr>\n",
       "      <th>Age</th>\n",
       "      <td>-0.696085</td>\n",
       "    </tr>\n",
       "    <tr>\n",
       "      <th>Usage</th>\n",
       "      <td>-0.295786</td>\n",
       "    </tr>\n",
       "    <tr>\n",
       "      <th>Est Income</th>\n",
       "      <td>-0.008129</td>\n",
       "    </tr>\n",
       "    <tr>\n",
       "      <th>Gender</th>\n",
       "      <td>0.000000</td>\n",
       "    </tr>\n",
       "    <tr>\n",
       "      <th>Status</th>\n",
       "      <td>0.000000</td>\n",
       "    </tr>\n",
       "  </tbody>\n",
       "</table>\n",
       "</div>"
      ],
      "text/plain": [
       "            Contribution\n",
       "Age            -0.696085\n",
       "Usage          -0.295786\n",
       "Est Income     -0.008129\n",
       "Gender          0.000000\n",
       "Status          0.000000"
      ]
     },
     "execution_count": 19,
     "metadata": {},
     "output_type": "execute_result"
    }
   ],
   "source": [
    "explanation.model_table('ltv')"
   ]
  },
  {
   "cell_type": "code",
   "execution_count": 20,
   "id": "92e51669",
   "metadata": {},
   "outputs": [
    {
     "data": {
      "text/html": [
       "<div>\n",
       "<style scoped>\n",
       "    .dataframe tbody tr th:only-of-type {\n",
       "        vertical-align: middle;\n",
       "    }\n",
       "\n",
       "    .dataframe tbody tr th {\n",
       "        vertical-align: top;\n",
       "    }\n",
       "\n",
       "    .dataframe thead th {\n",
       "        text-align: right;\n",
       "    }\n",
       "</style>\n",
       "<table border=\"1\" class=\"dataframe\">\n",
       "  <thead>\n",
       "    <tr style=\"text-align: right;\">\n",
       "      <th></th>\n",
       "      <th>Contribution</th>\n",
       "    </tr>\n",
       "  </thead>\n",
       "  <tbody>\n",
       "    <tr>\n",
       "      <th>Age</th>\n",
       "      <td>0.991</td>\n",
       "    </tr>\n",
       "    <tr>\n",
       "      <th>ltv</th>\n",
       "      <td>0.980</td>\n",
       "    </tr>\n",
       "    <tr>\n",
       "      <th>Usage</th>\n",
       "      <td>-0.655</td>\n",
       "    </tr>\n",
       "    <tr>\n",
       "      <th>cr</th>\n",
       "      <td>-0.551</td>\n",
       "    </tr>\n",
       "    <tr>\n",
       "      <th>Local</th>\n",
       "      <td>-0.534</td>\n",
       "    </tr>\n",
       "    <tr>\n",
       "      <th>Car Owner</th>\n",
       "      <td>0.000</td>\n",
       "    </tr>\n",
       "    <tr>\n",
       "      <th>LongDistance</th>\n",
       "      <td>0.000</td>\n",
       "    </tr>\n",
       "  </tbody>\n",
       "</table>\n",
       "</div>"
      ],
      "text/plain": [
       "              Contribution\n",
       "Age                  0.991\n",
       "ltv                  0.980\n",
       "Usage               -0.655\n",
       "cr                  -0.551\n",
       "Local               -0.534\n",
       "Car Owner            0.000\n",
       "LongDistance         0.000"
      ]
     },
     "execution_count": 20,
     "metadata": {},
     "output_type": "execute_result"
    }
   ],
   "source": [
    "explanation.rule_table(7)"
   ]
  },
  {
   "cell_type": "code",
   "execution_count": 21,
   "id": "fd2dc98a",
   "metadata": {},
   "outputs": [
    {
     "data": {
      "text/plain": [
       "<AxesSubplot:>"
      ]
     },
     "execution_count": 21,
     "metadata": {},
     "output_type": "execute_result"
    },
    {
     "data": {
      "image/png": "[encoded data removed]",
      "text/plain": [
       "<Figure size 432x288 with 1 Axes>"
      ]
     },
     "metadata": {
      "needs_background": "light"
     },
     "output_type": "display_data"
    }
   ],
   "source": [
    "explanation.rule_bar(4)"
   ]
  },
  {
   "cell_type": "code",
   "execution_count": 22,
   "id": "f03869ec",
   "metadata": {},
   "outputs": [
    {
     "data": {
      "text/plain": [
       "<AxesSubplot:>"
      ]
     },
     "execution_count": 22,
     "metadata": {},
     "output_type": "execute_result"
    },
    {
     "data": {
      "image/png": "[encoded data removed]",
      "text/plain": [
       "<Figure size 432x288 with 1 Axes>"
      ]
     },
     "metadata": {
      "needs_background": "light"
     },
     "output_type": "display_data"
    }
   ],
   "source": [
    "explanation.bar(8)"
   ]
  },
  {
   "cell_type": "code",
   "execution_count": 23,
   "id": "8ff67165",
   "metadata": {},
   "outputs": [
    {
     "data": {
      "text/html": [
       "<div>\n",
       "<style scoped>\n",
       "    .dataframe tbody tr th:only-of-type {\n",
       "        vertical-align: middle;\n",
       "    }\n",
       "\n",
       "    .dataframe tbody tr th {\n",
       "        vertical-align: top;\n",
       "    }\n",
       "\n",
       "    .dataframe thead th {\n",
       "        text-align: right;\n",
       "    }\n",
       "</style>\n",
       "<table border=\"1\" class=\"dataframe\">\n",
       "  <thead>\n",
       "    <tr style=\"text-align: right;\">\n",
       "      <th></th>\n",
       "      <th>Example</th>\n",
       "      <th>Contribution</th>\n",
       "    </tr>\n",
       "  </thead>\n",
       "  <tbody>\n",
       "    <tr>\n",
       "      <th>Usage</th>\n",
       "      <td>75.290000</td>\n",
       "      <td>-0.913175</td>\n",
       "    </tr>\n",
       "    <tr>\n",
       "      <th>Local</th>\n",
       "      <td>45.500000</td>\n",
       "      <td>-0.537582</td>\n",
       "    </tr>\n",
       "    <tr>\n",
       "      <th>Age</th>\n",
       "      <td>49.426667</td>\n",
       "      <td>0.339637</td>\n",
       "    </tr>\n",
       "    <tr>\n",
       "      <th>Children</th>\n",
       "      <td>2.000000</td>\n",
       "      <td>0.153825</td>\n",
       "    </tr>\n",
       "    <tr>\n",
       "      <th>Status</th>\n",
       "      <td>1.000000</td>\n",
       "      <td>0.143340</td>\n",
       "    </tr>\n",
       "    <tr>\n",
       "      <th>LongDistance</th>\n",
       "      <td>29.780000</td>\n",
       "      <td>-0.050824</td>\n",
       "    </tr>\n",
       "    <tr>\n",
       "      <th>RatePlan</th>\n",
       "      <td>2.000000</td>\n",
       "      <td>0.042302</td>\n",
       "    </tr>\n",
       "    <tr>\n",
       "      <th>Est Income</th>\n",
       "      <td>29616.000000</td>\n",
       "      <td>0.031169</td>\n",
       "    </tr>\n",
       "  </tbody>\n",
       "</table>\n",
       "</div>"
      ],
      "text/plain": [
       "                   Example  Contribution\n",
       "Usage            75.290000     -0.913175\n",
       "Local            45.500000     -0.537582\n",
       "Age              49.426667      0.339637\n",
       "Children          2.000000      0.153825\n",
       "Status            1.000000      0.143340\n",
       "LongDistance     29.780000     -0.050824\n",
       "RatePlan          2.000000      0.042302\n",
       "Est Income    29616.000000      0.031169"
      ]
     },
     "execution_count": 23,
     "metadata": {},
     "output_type": "execute_result"
    }
   ],
   "source": [
    "explanation.table(8)"
   ]
  },
  {
   "cell_type": "code",
   "execution_count": 24,
   "id": "07d66d6e",
   "metadata": {},
   "outputs": [
    {
     "data": {
      "text/plain": [
       "<AxesSubplot:>"
      ]
     },
     "execution_count": 24,
     "metadata": {},
     "output_type": "execute_result"
    },
    {
     "data": {
      "image/png": "[encoded data removed]",
      "text/plain": [
       "<Figure size 432x288 with 1 Axes>"
      ]
     },
     "metadata": {
      "needs_background": "light"
     },
     "output_type": "display_data"
    }
   ],
   "source": [
    "explanation.bar()"
   ]
  }
 ],
 "metadata": {
  "kernelspec": {
   "display_name": "Python 3",
   "language": "python",
   "name": "python3"
  },
  "language_info": {
   "codemirror_mode": {
    "name": "ipython",
    "version": 3
   },
   "file_extension": ".py",
   "mimetype": "text/x-python",
   "name": "python",
   "nbconvert_exporter": "python",
   "pygments_lexer": "ipython3",
   "version": "3.8.8"
  }
 },
 "nbformat": 4,
 "nbformat_minor": 5
}
