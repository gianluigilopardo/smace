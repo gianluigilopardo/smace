{
 "cells": [
  {
   "cell_type": "markdown",
   "id": "07bb4d9c",
   "metadata": {},
   "source": [
    "# Rule only"
   ]
  },
  {
   "cell_type": "markdown",
   "id": "eca6ec05",
   "metadata": {},
   "source": [
    "Evaluation in the case of a decision-making system based only on input attributes.\n",
    "Results obtained with SMACE are compared to those obtained by applying LIME and SHAP on the whole decision system."
   ]
  },
  {
   "cell_type": "code",
   "execution_count": 1,
   "id": "58adc43b",
   "metadata": {},
   "outputs": [],
   "source": [
    "import json\n",
    "import numpy as np\n",
    "import pandas as pd\n",
    "import warnings\n",
    "import shap\n",
    "import lime.lime_tabular\n",
    "import sys\n",
    "from anchor import anchor_tabular\n",
    "\n",
    "\n",
    "warnings.filterwarnings(\"ignore\")\n",
    "np.random.seed(seed=1)"
   ]
  },
  {
   "cell_type": "code",
   "execution_count": 2,
   "id": "7ec09d38",
   "metadata": {},
   "outputs": [],
   "source": [
    "sys.path.append('C:/Users/gianl/OneDrive/Desktop/Progs/SMACE/')"
   ]
  },
  {
   "cell_type": "code",
   "execution_count": 3,
   "id": "9e0ee06a",
   "metadata": {},
   "outputs": [],
   "source": [
    "from smace.rules import Rule\n",
    "from smace.decisions import DM\n",
    "from smace.explainer import Smace\n",
    "from smace import utils"
   ]
  },
  {
   "cell_type": "markdown",
   "id": "39f1802e",
   "metadata": {},
   "source": [
    "The input data is a random sample of three uniform variables $x_1$, $x_2$ and $x_3$ in $[0,1]$."
   ]
  },
  {
   "cell_type": "code",
   "execution_count": 4,
   "id": "f38d3180",
   "metadata": {},
   "outputs": [
    {
     "data": {
      "text/html": [
       "<div>\n",
       "<style scoped>\n",
       "    .dataframe tbody tr th:only-of-type {\n",
       "        vertical-align: middle;\n",
       "    }\n",
       "\n",
       "    .dataframe tbody tr th {\n",
       "        vertical-align: top;\n",
       "    }\n",
       "\n",
       "    .dataframe thead th {\n",
       "        text-align: right;\n",
       "    }\n",
       "</style>\n",
       "<table border=\"1\" class=\"dataframe\">\n",
       "  <thead>\n",
       "    <tr style=\"text-align: right;\">\n",
       "      <th></th>\n",
       "      <th>x1</th>\n",
       "      <th>x2</th>\n",
       "      <th>x3</th>\n",
       "    </tr>\n",
       "  </thead>\n",
       "  <tbody>\n",
       "    <tr>\n",
       "      <th>0</th>\n",
       "      <td>0.417022</td>\n",
       "      <td>0.720324</td>\n",
       "      <td>0.000114</td>\n",
       "    </tr>\n",
       "    <tr>\n",
       "      <th>1</th>\n",
       "      <td>0.302333</td>\n",
       "      <td>0.146756</td>\n",
       "      <td>0.092339</td>\n",
       "    </tr>\n",
       "    <tr>\n",
       "      <th>2</th>\n",
       "      <td>0.186260</td>\n",
       "      <td>0.345561</td>\n",
       "      <td>0.396767</td>\n",
       "    </tr>\n",
       "    <tr>\n",
       "      <th>3</th>\n",
       "      <td>0.538817</td>\n",
       "      <td>0.419195</td>\n",
       "      <td>0.685220</td>\n",
       "    </tr>\n",
       "    <tr>\n",
       "      <th>4</th>\n",
       "      <td>0.204452</td>\n",
       "      <td>0.878117</td>\n",
       "      <td>0.027388</td>\n",
       "    </tr>\n",
       "  </tbody>\n",
       "</table>\n",
       "</div>"
      ],
      "text/plain": [
       "         x1        x2        x3\n",
       "0  0.417022  0.720324  0.000114\n",
       "1  0.302333  0.146756  0.092339\n",
       "2  0.186260  0.345561  0.396767\n",
       "3  0.538817  0.419195  0.685220\n",
       "4  0.204452  0.878117  0.027388"
      ]
     },
     "execution_count": 4,
     "metadata": {},
     "output_type": "execute_result"
    }
   ],
   "source": [
    "# input data\n",
    "data = np.random.rand(1000, 3)\n",
    "df = pd.DataFrame(data, columns=['x1', 'x2', 'x3'])\n",
    "df.head()"
   ]
  },
  {
   "cell_type": "code",
   "execution_count": 5,
   "id": "01be21f5",
   "metadata": {},
   "outputs": [],
   "source": [
    "# decision rules\n",
    "with open('rule_simple.json', 'r') as fp:\n",
    "    rules_json = json.load(fp)"
   ]
  },
  {
   "cell_type": "code",
   "execution_count": 6,
   "id": "6928af35",
   "metadata": {},
   "outputs": [],
   "source": [
    "# decision system\n",
    "dm = DM(rules_json, [], df)  # model_list = []"
   ]
  },
  {
   "cell_type": "code",
   "execution_count": 7,
   "id": "b5cdc868",
   "metadata": {},
   "outputs": [],
   "source": [
    "# Initialize the explainers\n",
    "explainer = Smace(dm)\n",
    "data_summary = shap.sample(df, 100)\n",
    "shap_explainer = shap.KernelExplainer(dm.make_decision_eval, data_summary)\n",
    "lime_explainer = lime.lime_tabular.LimeTabularExplainer(df.values, feature_names=df.columns,\n",
    "                                                        discretize_continuous=True, verbose=False,\n",
    "                                                        mode='classification',\n",
    "                                                        )"
   ]
  },
  {
   "cell_type": "markdown",
   "id": "c075e2ac",
   "metadata": {},
   "source": [
    "The rule only refers to features. There are no models."
   ]
  },
  {
   "cell_type": "code",
   "execution_count": 8,
   "id": "f9e89e61",
   "metadata": {},
   "outputs": [
    {
     "data": {
      "text/plain": [
       "['x1 <= 0.5', 'x2 >= 0.6', 'x3 >= 0.25']"
      ]
     },
     "execution_count": 8,
     "metadata": {},
     "output_type": "execute_result"
    }
   ],
   "source": [
    "dm.rules['simple'].labels"
   ]
  },
  {
   "cell_type": "markdown",
   "id": "ff012e33",
   "metadata": {},
   "source": [
    "### Random example\n",
    "Let us pick a random example in our dataset."
   ]
  },
  {
   "cell_type": "code",
   "execution_count": 9,
   "id": "a09ad79c",
   "metadata": {},
   "outputs": [
    {
     "name": "stdout",
     "output_type": "stream",
     "text": [
      "[0.30233257 0.14675589 0.09233859]\n"
     ]
    }
   ],
   "source": [
    "example = np.array(df.loc[1])\n",
    "print(example)"
   ]
  },
  {
   "cell_type": "markdown",
   "id": "3a735760",
   "metadata": {},
   "source": [
    "The example does not satisfies all the condition, so it is classified as $0$.\n",
    "\n",
    "We want to know the contribution of the three variables to that decision."
   ]
  },
  {
   "cell_type": "code",
   "execution_count": 10,
   "id": "f4831f27",
   "metadata": {},
   "outputs": [
    {
     "data": {
      "text/html": [
       "<div>\n",
       "<style scoped>\n",
       "    .dataframe tbody tr th:only-of-type {\n",
       "        vertical-align: middle;\n",
       "    }\n",
       "\n",
       "    .dataframe tbody tr th {\n",
       "        vertical-align: top;\n",
       "    }\n",
       "\n",
       "    .dataframe thead th {\n",
       "        text-align: right;\n",
       "    }\n",
       "</style>\n",
       "<table border=\"1\" class=\"dataframe\">\n",
       "  <thead>\n",
       "    <tr style=\"text-align: right;\">\n",
       "      <th></th>\n",
       "      <th>SMACE</th>\n",
       "      <th>SHAP</th>\n",
       "      <th>LIME</th>\n",
       "    </tr>\n",
       "  </thead>\n",
       "  <tbody>\n",
       "    <tr>\n",
       "      <th>x1</th>\n",
       "      <td>0.802</td>\n",
       "      <td>0.063</td>\n",
       "      <td>0.177</td>\n",
       "    </tr>\n",
       "    <tr>\n",
       "      <th>x2</th>\n",
       "      <td>-0.546</td>\n",
       "      <td>0.063</td>\n",
       "      <td>-0.213</td>\n",
       "    </tr>\n",
       "    <tr>\n",
       "      <th>x3</th>\n",
       "      <td>-0.842</td>\n",
       "      <td>0.063</td>\n",
       "      <td>-0.213</td>\n",
       "    </tr>\n",
       "  </tbody>\n",
       "</table>\n",
       "</div>"
      ],
      "text/plain": [
       "    SMACE   SHAP   LIME\n",
       "x1  0.802  0.063  0.177\n",
       "x2 -0.546  0.063 -0.213\n",
       "x3 -0.842  0.063 -0.213"
      ]
     },
     "execution_count": 10,
     "metadata": {},
     "output_type": "execute_result"
    }
   ],
   "source": [
    "e = explainer.explain(example, 'simple')\n",
    "shap_values = shap_explainer.shap_values(example)[0]\n",
    "exp = lime_explainer.explain_instance(example, dm.make_decision_class)\n",
    "lime_values = utils.lime_mapper(exp)\n",
    "res = pd.DataFrame(index=list(e.keys()))\n",
    "res['SMACE'] = list(e.values())\n",
    "res['SHAP'] = np.round(shap_values, 3)\n",
    "res['LIME'] = np.round(lime_values, 3)\n",
    "res"
   ]
  },
  {
   "cell_type": "code",
   "execution_count": 11,
   "id": "b892010f",
   "metadata": {},
   "outputs": [
    {
     "data": {
      "text/plain": [
       "<AxesSubplot:>"
      ]
     },
     "execution_count": 11,
     "metadata": {},
     "output_type": "execute_result"
    },
    {
     "data": {
      "image/png": "[encoded data removed]",
      "text/plain": [
       "<Figure size 432x288 with 1 Axes>"
      ]
     },
     "metadata": {
      "needs_background": "light"
     },
     "output_type": "display_data"
    }
   ],
   "source": [
    "res.plot.barh()"
   ]
  },
  {
   "cell_type": "code",
   "execution_count": 12,
   "id": "4df40938",
   "metadata": {},
   "outputs": [
    {
     "name": "stdout",
     "output_type": "stream",
     "text": [
      "Anchors\n",
      "Anchor: x2 <= 0.52\n",
      "Precision: 1.00\n",
      "Coverage: 0.50\n"
     ]
    }
   ],
   "source": [
    "# Anchors\n",
    "print('Anchors')\n",
    "anchors_exp = anchor_tabular.AnchorTabularExplainer([0, 1], df.columns, df.values)\n",
    "exp = anchors_exp.explain_instance(example, dm.make_decision_eval, threshold=0.95)\n",
    "print('Anchor: %s' % (' AND '.join(exp.names())))\n",
    "print('Precision: %.2f' % exp.precision())\n",
    "print('Coverage: %.2f' % exp.coverage())"
   ]
  },
  {
   "cell_type": "markdown",
   "id": "7ed2394b",
   "metadata": {},
   "source": [
    "### Example on the decision boundary\n",
    "Now we consider an example exactly on the decision boundary, where the sensitivity is maximum."
   ]
  },
  {
   "cell_type": "code",
   "execution_count": 13,
   "id": "532c2cc7",
   "metadata": {},
   "outputs": [
    {
     "name": "stdout",
     "output_type": "stream",
     "text": [
      "[0.5  0.6  0.25]\n"
     ]
    }
   ],
   "source": [
    "example = np.array([0.5, 0.6, 0.25])\n",
    "print(example)"
   ]
  },
  {
   "cell_type": "markdown",
   "id": "a225a69e",
   "metadata": {},
   "source": [
    "The example satisfies all the conditions."
   ]
  },
  {
   "cell_type": "code",
   "execution_count": 14,
   "id": "544f9ac1",
   "metadata": {},
   "outputs": [
    {
     "data": {
      "text/html": [
       "<div>\n",
       "<style scoped>\n",
       "    .dataframe tbody tr th:only-of-type {\n",
       "        vertical-align: middle;\n",
       "    }\n",
       "\n",
       "    .dataframe tbody tr th {\n",
       "        vertical-align: top;\n",
       "    }\n",
       "\n",
       "    .dataframe thead th {\n",
       "        text-align: right;\n",
       "    }\n",
       "</style>\n",
       "<table border=\"1\" class=\"dataframe\">\n",
       "  <thead>\n",
       "    <tr style=\"text-align: right;\">\n",
       "      <th></th>\n",
       "      <th>SMACE</th>\n",
       "      <th>SHAP</th>\n",
       "      <th>LIME</th>\n",
       "    </tr>\n",
       "  </thead>\n",
       "  <tbody>\n",
       "    <tr>\n",
       "      <th>x1</th>\n",
       "      <td>1.0</td>\n",
       "      <td>0.355</td>\n",
       "      <td>-0.201</td>\n",
       "    </tr>\n",
       "    <tr>\n",
       "      <th>x2</th>\n",
       "      <td>1.0</td>\n",
       "      <td>0.355</td>\n",
       "      <td>0.121</td>\n",
       "    </tr>\n",
       "    <tr>\n",
       "      <th>x3</th>\n",
       "      <td>1.0</td>\n",
       "      <td>0.355</td>\n",
       "      <td>-0.200</td>\n",
       "    </tr>\n",
       "  </tbody>\n",
       "</table>\n",
       "</div>"
      ],
      "text/plain": [
       "    SMACE   SHAP   LIME\n",
       "x1    1.0  0.355 -0.201\n",
       "x2    1.0  0.355  0.121\n",
       "x3    1.0  0.355 -0.200"
      ]
     },
     "execution_count": 14,
     "metadata": {},
     "output_type": "execute_result"
    }
   ],
   "source": [
    "e = explainer.explain(example, 'simple')\n",
    "shap_values = shap_explainer.shap_values(example)[0]\n",
    "exp = lime_explainer.explain_instance(example, dm.make_decision_class)\n",
    "lime_values = utils.lime_mapper(exp)\n",
    "res = pd.DataFrame(index=list(e.keys()))\n",
    "res['SMACE'] = list(e.values())\n",
    "res['SHAP'] = np.round(shap_values, 3)\n",
    "res['LIME'] = np.round(lime_values, 3)\n",
    "res"
   ]
  },
  {
   "cell_type": "code",
   "execution_count": 15,
   "id": "fe290516",
   "metadata": {},
   "outputs": [
    {
     "data": {
      "text/plain": [
       "<AxesSubplot:>"
      ]
     },
     "execution_count": 15,
     "metadata": {},
     "output_type": "execute_result"
    },
    {
     "data": {
      "image/png": "[encoded data removed]",
      "text/plain": [
       "<Figure size 432x288 with 1 Axes>"
      ]
     },
     "metadata": {
      "needs_background": "light"
     },
     "output_type": "display_data"
    }
   ],
   "source": [
    "res.plot.barh()"
   ]
  },
  {
   "cell_type": "code",
   "execution_count": 16,
   "id": "81581930",
   "metadata": {},
   "outputs": [
    {
     "name": "stdout",
     "output_type": "stream",
     "text": [
      "Anchors\n",
      "Anchor: x2 > 0.52 AND x1 <= 0.75\n",
      "Precision: 0.43\n",
      "Coverage: 0.38\n"
     ]
    }
   ],
   "source": [
    "# Anchors\n",
    "print('Anchors')\n",
    "anchors_exp = anchor_tabular.AnchorTabularExplainer([0, 1], df.columns, df.values)\n",
    "exp = anchors_exp.explain_instance(example, dm.make_decision_eval, threshold=0.95)\n",
    "print('Anchor: %s' % (' AND '.join(exp.names())))\n",
    "print('Precision: %.2f' % exp.precision())\n",
    "print('Coverage: %.2f' % exp.coverage())"
   ]
  },
  {
   "cell_type": "markdown",
   "id": "f2260732",
   "metadata": {},
   "source": [
    "### Slight violation on one attribute\n",
    "Example with slight violation on $x_1$"
   ]
  },
  {
   "cell_type": "code",
   "execution_count": 17,
   "id": "909f7090",
   "metadata": {},
   "outputs": [
    {
     "name": "stdout",
     "output_type": "stream",
     "text": [
      "[0.51 0.6  0.25]\n"
     ]
    }
   ],
   "source": [
    "example = np.array([0.51, 0.6, 0.25])\n",
    "print(example)"
   ]
  },
  {
   "cell_type": "code",
   "execution_count": 18,
   "id": "6d50165d",
   "metadata": {},
   "outputs": [
    {
     "data": {
      "text/html": [
       "<div>\n",
       "<style scoped>\n",
       "    .dataframe tbody tr th:only-of-type {\n",
       "        vertical-align: middle;\n",
       "    }\n",
       "\n",
       "    .dataframe tbody tr th {\n",
       "        vertical-align: top;\n",
       "    }\n",
       "\n",
       "    .dataframe thead th {\n",
       "        text-align: right;\n",
       "    }\n",
       "</style>\n",
       "<table border=\"1\" class=\"dataframe\">\n",
       "  <thead>\n",
       "    <tr style=\"text-align: right;\">\n",
       "      <th></th>\n",
       "      <th>SMACE</th>\n",
       "      <th>SHAP</th>\n",
       "      <th>LIME</th>\n",
       "    </tr>\n",
       "  </thead>\n",
       "  <tbody>\n",
       "    <tr>\n",
       "      <th>x1</th>\n",
       "      <td>-0.99</td>\n",
       "      <td>-0.29</td>\n",
       "      <td>-0.211</td>\n",
       "    </tr>\n",
       "    <tr>\n",
       "      <th>x2</th>\n",
       "      <td>1.00</td>\n",
       "      <td>-0.29</td>\n",
       "      <td>0.126</td>\n",
       "    </tr>\n",
       "    <tr>\n",
       "      <th>x3</th>\n",
       "      <td>1.00</td>\n",
       "      <td>-0.29</td>\n",
       "      <td>-0.220</td>\n",
       "    </tr>\n",
       "  </tbody>\n",
       "</table>\n",
       "</div>"
      ],
      "text/plain": [
       "    SMACE  SHAP   LIME\n",
       "x1  -0.99 -0.29 -0.211\n",
       "x2   1.00 -0.29  0.126\n",
       "x3   1.00 -0.29 -0.220"
      ]
     },
     "execution_count": 18,
     "metadata": {},
     "output_type": "execute_result"
    }
   ],
   "source": [
    "e = explainer.explain(example, 'simple')\n",
    "shap_values = shap_explainer.shap_values(example)[0]\n",
    "exp = lime_explainer.explain_instance(example, dm.make_decision_class)\n",
    "lime_values = utils.lime_mapper(exp)\n",
    "res = pd.DataFrame(index=list(e.keys()))\n",
    "res['SMACE'] = list(e.values())\n",
    "res['SHAP'] = np.round(shap_values, 3)\n",
    "res['LIME'] = np.round(lime_values, 3)\n",
    "res"
   ]
  },
  {
   "cell_type": "code",
   "execution_count": 19,
   "id": "f41b5b50",
   "metadata": {},
   "outputs": [
    {
     "data": {
      "text/plain": [
       "<AxesSubplot:>"
      ]
     },
     "execution_count": 19,
     "metadata": {},
     "output_type": "execute_result"
    },
    {
     "data": {
      "image/png": "[encoded data removed]",
      "text/plain": [
       "<Figure size 432x288 with 1 Axes>"
      ]
     },
     "metadata": {
      "needs_background": "light"
     },
     "output_type": "display_data"
    }
   ],
   "source": [
    "res.plot.barh()"
   ]
  },
  {
   "cell_type": "code",
   "execution_count": 20,
   "id": "15f8ff6e",
   "metadata": {},
   "outputs": [
    {
     "name": "stdout",
     "output_type": "stream",
     "text": [
      "Anchors\n",
      "Anchor: x3 <= 0.25\n",
      "Precision: 1.00\n",
      "Coverage: 0.25\n"
     ]
    }
   ],
   "source": [
    "# Anchors\n",
    "print('Anchors')\n",
    "anchors_exp = anchor_tabular.AnchorTabularExplainer([0, 1], df.columns, df.values)\n",
    "exp = anchors_exp.explain_instance(example, dm.make_decision_eval, threshold=0.95)\n",
    "print('Anchor: %s' % (' AND '.join(exp.names())))\n",
    "print('Precision: %.2f' % exp.precision())\n",
    "print('Coverage: %.2f' % exp.coverage())"
   ]
  },
  {
   "cell_type": "markdown",
   "id": "b7302bbb",
   "metadata": {},
   "source": [
    "### Violation on two attributes\n",
    "Let us now analyze the case where the rules on two variables are violated. \n",
    "This means that in order to bring the result into $1$ it is necessary to move two variables simultaneously."
   ]
  },
  {
   "cell_type": "code",
   "execution_count": 21,
   "id": "18065c23",
   "metadata": {},
   "outputs": [
    {
     "name": "stdout",
     "output_type": "stream",
     "text": [
      "[0.6 0.1 0.8]\n"
     ]
    }
   ],
   "source": [
    "example = np.array([0.6, 0.1, 0.8])\n",
    "print(example)"
   ]
  },
  {
   "cell_type": "code",
   "execution_count": 22,
   "id": "23111be5",
   "metadata": {},
   "outputs": [
    {
     "data": {
      "text/html": [
       "<div>\n",
       "<style scoped>\n",
       "    .dataframe tbody tr th:only-of-type {\n",
       "        vertical-align: middle;\n",
       "    }\n",
       "\n",
       "    .dataframe tbody tr th {\n",
       "        vertical-align: top;\n",
       "    }\n",
       "\n",
       "    .dataframe thead th {\n",
       "        text-align: right;\n",
       "    }\n",
       "</style>\n",
       "<table border=\"1\" class=\"dataframe\">\n",
       "  <thead>\n",
       "    <tr style=\"text-align: right;\">\n",
       "      <th></th>\n",
       "      <th>SMACE</th>\n",
       "      <th>SHAP</th>\n",
       "      <th>LIME</th>\n",
       "    </tr>\n",
       "  </thead>\n",
       "  <tbody>\n",
       "    <tr>\n",
       "      <th>x1</th>\n",
       "      <td>-0.900</td>\n",
       "      <td>-0.078</td>\n",
       "      <td>-0.199</td>\n",
       "    </tr>\n",
       "    <tr>\n",
       "      <th>x2</th>\n",
       "      <td>-0.499</td>\n",
       "      <td>-0.078</td>\n",
       "      <td>-0.204</td>\n",
       "    </tr>\n",
       "    <tr>\n",
       "      <th>x3</th>\n",
       "      <td>0.450</td>\n",
       "      <td>-0.078</td>\n",
       "      <td>0.069</td>\n",
       "    </tr>\n",
       "  </tbody>\n",
       "</table>\n",
       "</div>"
      ],
      "text/plain": [
       "    SMACE   SHAP   LIME\n",
       "x1 -0.900 -0.078 -0.199\n",
       "x2 -0.499 -0.078 -0.204\n",
       "x3  0.450 -0.078  0.069"
      ]
     },
     "execution_count": 22,
     "metadata": {},
     "output_type": "execute_result"
    }
   ],
   "source": [
    "e = explainer.explain(example, 'simple')\n",
    "shap_values = shap_explainer.shap_values(example)[0]\n",
    "exp = lime_explainer.explain_instance(example, dm.make_decision_class)\n",
    "lime_values = utils.lime_mapper(exp)\n",
    "res = pd.DataFrame(index=list(e.keys()))\n",
    "res['SMACE'] = list(e.values())\n",
    "res['SHAP'] = np.round(shap_values, 3)\n",
    "res['LIME'] = np.round(lime_values, 3)\n",
    "res"
   ]
  },
  {
   "cell_type": "code",
   "execution_count": 23,
   "id": "a18bd442",
   "metadata": {},
   "outputs": [
    {
     "data": {
      "text/plain": [
       "<AxesSubplot:>"
      ]
     },
     "execution_count": 23,
     "metadata": {},
     "output_type": "execute_result"
    },
    {
     "data": {
      "image/png": "[encoded data removed]",
      "text/plain": [
       "<Figure size 432x288 with 1 Axes>"
      ]
     },
     "metadata": {
      "needs_background": "light"
     },
     "output_type": "display_data"
    }
   ],
   "source": [
    "res.plot.barh()"
   ]
  },
  {
   "cell_type": "code",
   "execution_count": 24,
   "id": "b99d6481",
   "metadata": {},
   "outputs": [
    {
     "name": "stdout",
     "output_type": "stream",
     "text": [
      "Anchors\n",
      "Anchor: x2 <= 0.52\n",
      "Precision: 1.00\n",
      "Coverage: 0.50\n"
     ]
    }
   ],
   "source": [
    "# Anchors\n",
    "print('Anchors')\n",
    "anchors_exp = anchor_tabular.AnchorTabularExplainer([0, 1], df.columns, df.values)\n",
    "exp = anchors_exp.explain_instance(example, dm.make_decision_eval, threshold=0.95)\n",
    "print('Anchor: %s' % (' AND '.join(exp.names())))\n",
    "print('Precision: %.2f' % exp.precision())\n",
    "print('Coverage: %.2f' % exp.coverage())"
   ]
  },
  {
   "cell_type": "markdown",
   "id": "60a65cd2",
   "metadata": {},
   "source": [
    "### Violation on each attribute"
   ]
  },
  {
   "cell_type": "code",
   "execution_count": 25,
   "id": "4c59c04b",
   "metadata": {},
   "outputs": [
    {
     "name": "stdout",
     "output_type": "stream",
     "text": [
      "[0.65 0.59 0.14]\n"
     ]
    }
   ],
   "source": [
    "example = np.array([0.65, 0.59, 0.14])\n",
    "print(example)"
   ]
  },
  {
   "cell_type": "code",
   "execution_count": 26,
   "id": "751db5e3",
   "metadata": {},
   "outputs": [
    {
     "data": {
      "text/html": [
       "<div>\n",
       "<style scoped>\n",
       "    .dataframe tbody tr th:only-of-type {\n",
       "        vertical-align: middle;\n",
       "    }\n",
       "\n",
       "    .dataframe tbody tr th {\n",
       "        vertical-align: top;\n",
       "    }\n",
       "\n",
       "    .dataframe thead th {\n",
       "        text-align: right;\n",
       "    }\n",
       "</style>\n",
       "<table border=\"1\" class=\"dataframe\">\n",
       "  <thead>\n",
       "    <tr style=\"text-align: right;\">\n",
       "      <th></th>\n",
       "      <th>SMACE</th>\n",
       "      <th>SHAP</th>\n",
       "      <th>LIME</th>\n",
       "    </tr>\n",
       "  </thead>\n",
       "  <tbody>\n",
       "    <tr>\n",
       "      <th>x1</th>\n",
       "      <td>-0.85</td>\n",
       "      <td>-0.047</td>\n",
       "      <td>-0.209</td>\n",
       "    </tr>\n",
       "    <tr>\n",
       "      <th>x2</th>\n",
       "      <td>-0.99</td>\n",
       "      <td>-0.047</td>\n",
       "      <td>0.142</td>\n",
       "    </tr>\n",
       "    <tr>\n",
       "      <th>x3</th>\n",
       "      <td>-0.89</td>\n",
       "      <td>-0.047</td>\n",
       "      <td>-0.214</td>\n",
       "    </tr>\n",
       "  </tbody>\n",
       "</table>\n",
       "</div>"
      ],
      "text/plain": [
       "    SMACE   SHAP   LIME\n",
       "x1  -0.85 -0.047 -0.209\n",
       "x2  -0.99 -0.047  0.142\n",
       "x3  -0.89 -0.047 -0.214"
      ]
     },
     "execution_count": 26,
     "metadata": {},
     "output_type": "execute_result"
    }
   ],
   "source": [
    "e = explainer.explain(example, 'simple')\n",
    "shap_values = shap_explainer.shap_values(example)[0]\n",
    "exp = lime_explainer.explain_instance(example, dm.make_decision_class)\n",
    "lime_values = utils.lime_mapper(exp)\n",
    "res = pd.DataFrame(index=list(e.keys()))\n",
    "res['SMACE'] = list(e.values())\n",
    "res['SHAP'] = np.round(shap_values, 3)\n",
    "res['LIME'] = np.round(lime_values, 3)\n",
    "res"
   ]
  },
  {
   "cell_type": "code",
   "execution_count": 27,
   "id": "3ae77a81",
   "metadata": {},
   "outputs": [
    {
     "data": {
      "text/plain": [
       "<AxesSubplot:>"
      ]
     },
     "execution_count": 27,
     "metadata": {},
     "output_type": "execute_result"
    },
    {
     "data": {
      "image/png": "[encoded data removed]",
      "text/plain": [
       "<Figure size 432x288 with 1 Axes>"
      ]
     },
     "metadata": {
      "needs_background": "light"
     },
     "output_type": "display_data"
    }
   ],
   "source": [
    "res.plot.barh()"
   ]
  },
  {
   "cell_type": "code",
   "execution_count": 28,
   "id": "772d712e",
   "metadata": {},
   "outputs": [
    {
     "name": "stdout",
     "output_type": "stream",
     "text": [
      "Anchors\n",
      "Anchor: x3 <= 0.25\n",
      "Precision: 1.00\n",
      "Coverage: 0.25\n"
     ]
    }
   ],
   "source": [
    "# Anchors\n",
    "print('Anchors')\n",
    "anchors_exp = anchor_tabular.AnchorTabularExplainer([0, 1], df.columns, df.values)\n",
    "exp = anchors_exp.explain_instance(example, dm.make_decision_eval, threshold=0.95)\n",
    "print('Anchor: %s' % (' AND '.join(exp.names())))\n",
    "print('Precision: %.2f' % exp.precision())\n",
    "print('Coverage: %.2f' % exp.coverage())"
   ]
  },
  {
   "cell_type": "code",
   "execution_count": 31,
   "id": "b4786f90",
   "metadata": {},
   "outputs": [
    {
     "data": {
      "text/plain": [
       "array([[0.5152147 , 0.4788234 , 0.22449348],\n",
       "       [0.00704672, 0.05952861, 0.04431166],\n",
       "       [0.62417972, 0.26483666, 0.02291513],\n",
       "       [0.31898601, 0.12191981, 0.19964557],\n",
       "       [0.52178121, 0.78847913, 0.23698206],\n",
       "       [0.21369324, 0.76728451, 0.19446581],\n",
       "       [0.00531653, 0.2772001 , 0.0511109 ],\n",
       "       [0.53128781, 0.24829073, 0.18756989],\n",
       "       [0.96303234, 0.93826177, 0.18819426],\n",
       "       [0.53376109, 0.10315472, 0.02452249]])"
      ]
     },
     "execution_count": 31,
     "metadata": {},
     "output_type": "execute_result"
    }
   ],
   "source": [
    "exp.examples()"
   ]
  }
 ],
 "metadata": {
  "kernelspec": {
   "display_name": "Python 3",
   "language": "python",
   "name": "python3"
  },
  "language_info": {
   "codemirror_mode": {
    "name": "ipython",
    "version": 3
   },
   "file_extension": ".py",
   "mimetype": "text/x-python",
   "name": "python",
   "nbconvert_exporter": "python",
   "pygments_lexer": "ipython3",
   "version": "3.8.8"
  }
 },
 "nbformat": 4,
 "nbformat_minor": 5
}
